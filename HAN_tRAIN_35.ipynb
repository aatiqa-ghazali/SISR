{
  "nbformat": 4,
  "nbformat_minor": 0,
  "metadata": {
    "accelerator": "GPU",
    "colab": {
      "name": "Untitled0.ipynb",
      "provenance": [],
      "collapsed_sections": [],
      "machine_shape": "hm",
      "authorship_tag": "ABX9TyNo+9Pj0Oikdp/cq8IW/bxp",
      "include_colab_link": true
    },
    "kernelspec": {
      "display_name": "Python 3",
      "name": "python3"
    },
    "language_info": {
      "name": "python"
    }
  },
  "cells": [
    {
      "cell_type": "markdown",
      "metadata": {
        "id": "view-in-github",
        "colab_type": "text"
      },
      "source": [
        "<a href=\"https://colab.research.google.com/github/aatiqa-ghazali/SISR/blob/main/HAN_tRAIN_35.ipynb\" target=\"_parent\"><img src=\"https://colab.research.google.com/assets/colab-badge.svg\" alt=\"Open In Colab\"/></a>"
      ]
    },
    {
      "cell_type": "code",
      "metadata": {
        "colab": {
          "base_uri": "https://localhost:8080/"
        },
        "id": "JKGZ-HCAFSlT",
        "outputId": "7f0a2d2b-38a0-4a1d-dd16-af39382c7922"
      },
      "source": [
        "#mounting_drive\n",
        "from google.colab import drive\n",
        "drive.mount('/content/drive', force_remount=True)"
      ],
      "execution_count": 1,
      "outputs": [
        {
          "output_type": "stream",
          "name": "stdout",
          "text": [
            "Mounted at /content/drive\n"
          ]
        }
      ]
    },
    {
      "cell_type": "markdown",
      "metadata": {
        "id": "0PPlwy5kFixO"
      },
      "source": [
        "**ECCV 2020 paper \"Single Image Super-Resolution via a Holistic Attention Network**\n",
        "\n"
      ]
    },
    {
      "cell_type": "code",
      "metadata": {
        "colab": {
          "base_uri": "https://localhost:8080/"
        },
        "id": "y1NDsW2VGJO3",
        "outputId": "da319e8a-ddef-408a-beb9-1ebf729e293b"
      },
      "source": [
        "!pip install -q condacolab\n",
        "import condacolab\n",
        "condacolab.install()"
      ],
      "execution_count": 2,
      "outputs": [
        {
          "output_type": "stream",
          "name": "stdout",
          "text": [
            "⏬ Downloading https://github.com/jaimergp/miniforge/releases/latest/download/Mambaforge-colab-Linux-x86_64.sh...\n",
            "📦 Installing...\n",
            "📌 Adjusting configuration...\n",
            "🩹 Patching environment...\n",
            "⏲ Done in 0:00:25\n",
            "🔁 Restarting kernel...\n"
          ]
        }
      ]
    },
    {
      "cell_type": "code",
      "metadata": {
        "colab": {
          "base_uri": "https://localhost:8080/"
        },
        "id": "c9h5UBVpXwNo",
        "outputId": "2e8e25fe-9b7d-455e-88a8-53a7b6fd3cdb"
      },
      "source": [
        "!pip uninstall torch -y\n",
        "!pip uninstall torch -y\n"
      ],
      "execution_count": 3,
      "outputs": [
        {
          "output_type": "stream",
          "name": "stdout",
          "text": [
            "\u001b[33mWARNING: Skipping torch as it is not installed.\u001b[0m\n",
            "\u001b[33mWARNING: Skipping torch as it is not installed.\u001b[0m\n"
          ]
        }
      ]
    },
    {
      "cell_type": "code",
      "metadata": {
        "colab": {
          "base_uri": "https://localhost:8080/"
        },
        "id": "ZNpj3K9HGPDk",
        "outputId": "8c2fd1bf-e876-48b7-b576-6a352c6e2640"
      },
      "source": [
        "!pip install torch===0.4.1.post2 torchvision===0.2.1 \n"
      ],
      "execution_count": 4,
      "outputs": [
        {
          "output_type": "stream",
          "name": "stdout",
          "text": [
            "Collecting torch===0.4.1.post2\n",
            "  Downloading torch-0.4.1.post2-cp37-cp37m-manylinux1_x86_64.whl (519.5 MB)\n",
            "\u001b[K     |████████████████████████████████| 519.5 MB 23 kB/s \n",
            "\u001b[?25hCollecting torchvision===0.2.1\n",
            "  Downloading torchvision-0.2.1-py2.py3-none-any.whl (54 kB)\n",
            "\u001b[K     |████████████████████████████████| 54 kB 2.1 MB/s \n",
            "\u001b[?25hCollecting numpy\n",
            "  Downloading numpy-1.21.4-cp37-cp37m-manylinux_2_12_x86_64.manylinux2010_x86_64.whl (15.7 MB)\n",
            "\u001b[K     |████████████████████████████████| 15.7 MB 46.2 MB/s \n",
            "\u001b[?25hCollecting pillow>=4.1.1\n",
            "  Downloading Pillow-8.4.0-cp37-cp37m-manylinux_2_17_x86_64.manylinux2014_x86_64.whl (3.1 MB)\n",
            "\u001b[K     |████████████████████████████████| 3.1 MB 55.7 MB/s \n",
            "\u001b[?25hRequirement already satisfied: six in /usr/local/lib/python3.7/site-packages (from torchvision===0.2.1) (1.15.0)\n",
            "Installing collected packages: torch, pillow, numpy, torchvision\n",
            "Successfully installed numpy-1.21.4 pillow-8.4.0 torch-0.4.1.post2 torchvision-0.2.1\n"
          ]
        }
      ]
    },
    {
      "cell_type": "code",
      "metadata": {
        "colab": {
          "base_uri": "https://localhost:8080/",
          "height": 1000
        },
        "id": "2F-SbgraGQUy",
        "outputId": "19fafaa7-4d81-4017-de0f-b139658b66d0"
      },
      "source": [
        "!pip install numpy\n",
        "!pip install imageio\n",
        "!pip install matplotlib\n",
        "!pip install tqdm\n",
        "!apt-get install python-opencv\n",
        "!python -m pip install -U scikit-image\n"
      ],
      "execution_count": 5,
      "outputs": [
        {
          "output_type": "stream",
          "name": "stdout",
          "text": [
            "Requirement already satisfied: numpy in /usr/local/lib/python3.7/site-packages (1.21.4)\n",
            "Collecting imageio\n",
            "  Downloading imageio-2.10.3-py3-none-any.whl (3.3 MB)\n",
            "\u001b[K     |████████████████████████████████| 3.3 MB 7.0 MB/s \n",
            "\u001b[?25hRequirement already satisfied: pillow>=8.3.2 in /usr/local/lib/python3.7/site-packages (from imageio) (8.4.0)\n",
            "Requirement already satisfied: numpy in /usr/local/lib/python3.7/site-packages (from imageio) (1.21.4)\n",
            "Installing collected packages: imageio\n",
            "Successfully installed imageio-2.10.3\n",
            "Collecting matplotlib\n",
            "  Downloading matplotlib-3.4.3-cp37-cp37m-manylinux1_x86_64.whl (10.3 MB)\n",
            "\u001b[K     |████████████████████████████████| 10.3 MB 7.1 MB/s \n",
            "\u001b[?25hCollecting cycler>=0.10\n",
            "  Downloading cycler-0.11.0-py3-none-any.whl (6.4 kB)\n",
            "Requirement already satisfied: pillow>=6.2.0 in /usr/local/lib/python3.7/site-packages (from matplotlib) (8.4.0)\n",
            "Collecting kiwisolver>=1.0.1\n",
            "  Downloading kiwisolver-1.3.2-cp37-cp37m-manylinux_2_5_x86_64.manylinux1_x86_64.whl (1.1 MB)\n",
            "\u001b[K     |████████████████████████████████| 1.1 MB 42.6 MB/s \n",
            "\u001b[?25hCollecting pyparsing>=2.2.1\n",
            "  Downloading pyparsing-3.0.4-py3-none-any.whl (96 kB)\n",
            "\u001b[K     |████████████████████████████████| 96 kB 6.4 MB/s \n",
            "\u001b[?25hRequirement already satisfied: numpy>=1.16 in /usr/local/lib/python3.7/site-packages (from matplotlib) (1.21.4)\n",
            "Collecting python-dateutil>=2.7\n",
            "  Downloading python_dateutil-2.8.2-py2.py3-none-any.whl (247 kB)\n",
            "\u001b[K     |████████████████████████████████| 247 kB 57.8 MB/s \n",
            "\u001b[?25hRequirement already satisfied: six>=1.5 in /usr/local/lib/python3.7/site-packages (from python-dateutil>=2.7->matplotlib) (1.15.0)\n",
            "Installing collected packages: python-dateutil, pyparsing, kiwisolver, cycler, matplotlib\n",
            "Successfully installed cycler-0.11.0 kiwisolver-1.3.2 matplotlib-3.4.3 pyparsing-3.0.4 python-dateutil-2.8.2\n"
          ]
        },
        {
          "output_type": "display_data",
          "data": {
            "application/vnd.colab-display-data+json": {
              "pip_warning": {
                "packages": [
                  "dateutil",
                  "kiwisolver"
                ]
              }
            }
          },
          "metadata": {}
        },
        {
          "output_type": "stream",
          "name": "stdout",
          "text": [
            "Requirement already satisfied: tqdm in /usr/local/lib/python3.7/site-packages (4.59.0)\n",
            "Reading package lists... Done\n",
            "Building dependency tree       \n",
            "Reading state information... Done\n",
            "The following NEW packages will be installed:\n",
            "  python-opencv\n",
            "0 upgraded, 1 newly installed, 0 to remove and 37 not upgraded.\n",
            "Need to get 535 kB of archives.\n",
            "After this operation, 2,944 kB of additional disk space will be used.\n",
            "Get:1 http://archive.ubuntu.com/ubuntu bionic-updates/universe amd64 python-opencv amd64 3.2.0+dfsg-4ubuntu0.1 [535 kB]\n",
            "Fetched 535 kB in 1s (439 kB/s)\n",
            "Selecting previously unselected package python-opencv.\n",
            "(Reading database ... 155219 files and directories currently installed.)\n",
            "Preparing to unpack .../python-opencv_3.2.0+dfsg-4ubuntu0.1_amd64.deb ...\n",
            "Unpacking python-opencv (3.2.0+dfsg-4ubuntu0.1) ...\n",
            "Setting up python-opencv (3.2.0+dfsg-4ubuntu0.1) ...\n",
            "Collecting scikit-image\n",
            "  Downloading scikit_image-0.18.3-cp37-cp37m-manylinux_2_5_x86_64.manylinux1_x86_64.whl (29.2 MB)\n",
            "\u001b[K     |████████████████████████████████| 29.2 MB 5.8 MB/s \n",
            "\u001b[?25hRequirement already satisfied: matplotlib!=3.0.0,>=2.0.0 in /usr/local/lib/python3.7/site-packages (from scikit-image) (3.4.3)\n",
            "Collecting PyWavelets>=1.1.1\n",
            "  Downloading PyWavelets-1.1.1-cp37-cp37m-manylinux1_x86_64.whl (4.4 MB)\n",
            "\u001b[K     |████████████████████████████████| 4.4 MB 46.5 MB/s \n",
            "\u001b[?25hRequirement already satisfied: imageio>=2.3.0 in /usr/local/lib/python3.7/site-packages (from scikit-image) (2.10.3)\n",
            "Collecting scipy>=1.0.1\n",
            "  Downloading scipy-1.7.2-cp37-cp37m-manylinux_2_12_x86_64.manylinux2010_x86_64.whl (38.2 MB)\n",
            "\u001b[K     |████████████████████████████████| 38.2 MB 46 kB/s \n",
            "\u001b[?25hCollecting networkx>=2.0\n",
            "  Downloading networkx-2.6.3-py3-none-any.whl (1.9 MB)\n",
            "\u001b[K     |████████████████████████████████| 1.9 MB 60.6 MB/s \n",
            "\u001b[?25hCollecting tifffile>=2019.7.26\n",
            "  Downloading tifffile-2021.11.2-py3-none-any.whl (178 kB)\n",
            "\u001b[K     |████████████████████████████████| 178 kB 68.5 MB/s \n",
            "\u001b[?25hRequirement already satisfied: pillow!=7.1.0,!=7.1.1,>=4.3.0 in /usr/local/lib/python3.7/site-packages (from scikit-image) (8.4.0)\n",
            "Requirement already satisfied: numpy>=1.16.5 in /usr/local/lib/python3.7/site-packages (from scikit-image) (1.21.4)\n",
            "Requirement already satisfied: kiwisolver>=1.0.1 in /usr/local/lib/python3.7/site-packages (from matplotlib!=3.0.0,>=2.0.0->scikit-image) (1.3.2)\n",
            "Requirement already satisfied: python-dateutil>=2.7 in /usr/local/lib/python3.7/site-packages (from matplotlib!=3.0.0,>=2.0.0->scikit-image) (2.8.2)\n",
            "Requirement already satisfied: pyparsing>=2.2.1 in /usr/local/lib/python3.7/site-packages (from matplotlib!=3.0.0,>=2.0.0->scikit-image) (3.0.4)\n",
            "Requirement already satisfied: cycler>=0.10 in /usr/local/lib/python3.7/site-packages (from matplotlib!=3.0.0,>=2.0.0->scikit-image) (0.11.0)\n",
            "Requirement already satisfied: six>=1.5 in /usr/local/lib/python3.7/site-packages (from python-dateutil>=2.7->matplotlib!=3.0.0,>=2.0.0->scikit-image) (1.15.0)\n",
            "Installing collected packages: tifffile, scipy, PyWavelets, networkx, scikit-image\n",
            "Successfully installed PyWavelets-1.1.1 networkx-2.6.3 scikit-image-0.18.3 scipy-1.7.2 tifffile-2021.11.2\n"
          ]
        }
      ]
    },
    {
      "cell_type": "code",
      "metadata": {
        "colab": {
          "base_uri": "https://localhost:8080/"
        },
        "id": "_TKe043eyGsd",
        "outputId": "197c52c1-709e-4e66-dfb6-45e699365a3d"
      },
      "source": [
        "!conda install -c conda-forge scikit-image\n"
      ],
      "execution_count": 6,
      "outputs": [
        {
          "output_type": "stream",
          "name": "stdout",
          "text": [
            "Collecting package metadata (current_repodata.json): - \b\b\\ \b\b| \b\b/ \b\b- \b\b\\ \b\b| \b\b/ \b\b- \b\b\\ \b\b| \b\b/ \b\b- \b\b\\ \b\b| \b\b/ \b\b- \b\b\\ \b\b| \b\b/ \b\b- \b\b\\ \b\b| \b\b/ \b\b- \b\b\\ \b\b| \b\b/ \b\b- \b\b\\ \b\b| \b\b/ \b\b- \b\b\\ \b\b| \b\b/ \b\b- \b\b\\ \b\b| \b\b/ \b\b- \b\b\\ \b\b| \b\b/ \b\b- \b\b\\ \b\b| \b\b/ \b\b- \b\b\\ \b\b| \b\b/ \b\b- \b\b\\ \b\b| \b\b/ \b\b- \b\b\\ \b\b| \b\b/ \b\b- \b\b\\ \b\b| \b\b/ \b\b- \b\b\\ \b\b| \b\b/ \b\b- \b\b\\ \b\b| \b\b/ \b\b- \b\b\\ \b\b| \b\b/ \b\b- \b\b\\ \b\b| \b\b/ \b\b- \b\b\\ \b\b| \b\b/ \b\b- \b\b\\ \b\b| \b\b/ \b\b- \b\b\\ \b\b| \b\b/ \b\b- \b\b\\ \b\b| \b\bdone\n",
            "Solving environment: - \b\b\\ \b\b| \b\b/ \b\b- \b\b\\ \b\b| \b\b/ \b\b- \b\b\\ \b\b| \b\b/ \b\b- \b\b\\ \b\b| \b\b/ \b\b- \b\b\\ \b\b| \b\b/ \b\b- \b\b\\ \b\b| \b\b/ \b\b- \b\b\\ \b\b| \b\b/ \b\b- \b\b\\ \b\b| \b\b/ \b\b- \b\b\\ \b\b| \b\b/ \b\b- \b\b\\ \b\b| \b\b/ \b\b- \b\b\\ \b\b| \b\b/ \b\b- \b\b\\ \b\b| \b\b/ \b\b- \n",
            "Warning: 2 possible package resolutions (only showing differing packages):\n",
            "  - conda-forge/noarch::packaging-21.0-pyhd8ed1ab_0, conda-forge/noarch::pyparsing-3.0.4-pyhd8ed1ab_0\n",
            "  - conda-forge/noarch::packaging-21.2-pyhd8ed1ab_1, conda-forge/noarch::pyparsing-2.4.7-pyhd8ed1ab_1\b\bdone\n",
            "\n",
            "## Package Plan ##\n",
            "\n",
            "  environment location: /usr/local\n",
            "\n",
            "  added / updated specs:\n",
            "    - scikit-image\n",
            "\n",
            "\n",
            "The following packages will be downloaded:\n",
            "\n",
            "    package                    |            build\n",
            "    ---------------------------|-----------------\n",
            "    appdirs-1.4.4              |     pyh9f0ad1d_0          13 KB  conda-forge\n",
            "    ca-certificates-2021.10.8  |       ha878542_0         139 KB  conda-forge\n",
            "    certifi-2021.10.8          |   py37h89c1867_1         145 KB  conda-forge\n",
            "    cloudpickle-2.0.0          |     pyhd8ed1ab_0          24 KB  conda-forge\n",
            "    conda-4.10.3               |   py37h89c1867_3         3.1 MB  conda-forge\n",
            "    cycler-0.11.0              |     pyhd8ed1ab_0          10 KB  conda-forge\n",
            "    cytoolz-0.11.0             |   py37h5e8e339_3         403 KB  conda-forge\n",
            "    dask-core-2021.11.0        |     pyhd8ed1ab_0         780 KB  conda-forge\n",
            "    enum34-1.1.10              |   py37hc8dfbb8_2           4 KB  conda-forge\n",
            "    freetype-2.10.4            |       h0708190_1         890 KB  conda-forge\n",
            "    fsspec-2021.11.0           |     pyhd8ed1ab_0          91 KB  conda-forge\n",
            "    imagecodecs-lite-2019.12.3 |   py37h902c9e0_3         205 KB  conda-forge\n",
            "    imageio-2.9.0              |             py_0         3.1 MB  conda-forge\n",
            "    jpeg-9d                    |       h36c2ea0_0         264 KB  conda-forge\n",
            "    kiwisolver-1.3.1           |   py37h2531618_0          80 KB\n",
            "    libblas-3.9.0              |11_linux64_openblas          12 KB  conda-forge\n",
            "    libcblas-3.9.0             |11_linux64_openblas          11 KB  conda-forge\n",
            "    libgfortran-ng-11.2.0      |      h69a702a_11          19 KB  conda-forge\n",
            "    libgfortran5-11.2.0        |      h5c6108e_11         1.7 MB  conda-forge\n",
            "    liblapack-3.9.0            |11_linux64_openblas          11 KB  conda-forge\n",
            "    libopenblas-0.3.17         |pthreads_h8fe5266_1         9.2 MB  conda-forge\n",
            "    libpng-1.6.37              |       h21135ba_2         306 KB  conda-forge\n",
            "    libtiff-4.0.10             |    hc3755c2_1005         602 KB  conda-forge\n",
            "    locket-0.2.0               |             py_2           6 KB  conda-forge\n",
            "    matplotlib-base-3.3.4      |   py37h0c9df89_0         6.7 MB  conda-forge\n",
            "    networkx-2.6.3             |     pyhd8ed1ab_1         1.5 MB  conda-forge\n",
            "    numpy-1.20.3               |   py37h038b26d_1         5.7 MB  conda-forge\n",
            "    olefile-0.46               |     pyh9f0ad1d_1          32 KB  conda-forge\n",
            "    packaging-21.0             |     pyhd8ed1ab_0          35 KB  conda-forge\n",
            "    pandas-1.2.5               |   py37h219a48f_0        11.8 MB  conda-forge\n",
            "    partd-1.2.0                |     pyhd8ed1ab_0          18 KB  conda-forge\n",
            "    pathlib-1.0.1              |   py37h89c1867_5           4 KB  conda-forge\n",
            "    pillow-6.2.1               |   py37h6b7be26_0         637 KB  conda-forge\n",
            "    pooch-1.5.2                |     pyhd8ed1ab_0          45 KB  conda-forge\n",
            "    pyparsing-3.0.4            |     pyhd8ed1ab_0          78 KB  conda-forge\n",
            "    python-dateutil-2.8.2      |     pyhd8ed1ab_0         240 KB  conda-forge\n",
            "    python_abi-3.7             |          2_cp37m           4 KB  conda-forge\n",
            "    pytz-2021.3                |     pyhd8ed1ab_0         242 KB  conda-forge\n",
            "    pywavelets-1.1.1           |   py37h902c9e0_3         4.4 MB  conda-forge\n",
            "    pyyaml-5.4.1               |   py37h5e8e339_0         189 KB  conda-forge\n",
            "    scikit-image-0.18.1        |   py37hdc94413_0        11.5 MB  conda-forge\n",
            "    scipy-1.6.3                |   py37h29e03ee_0        20.5 MB  conda-forge\n",
            "    tifffile-2019.7.26.2       |           py37_0         218 KB  conda-forge\n",
            "    toolz-0.11.2               |     pyhd8ed1ab_0          48 KB  conda-forge\n",
            "    tornado-6.1                |   py37h5e8e339_1         646 KB  conda-forge\n",
            "    ------------------------------------------------------------\n",
            "                                           Total:        85.4 MB\n",
            "\n",
            "The following NEW packages will be INSTALLED:\n",
            "\n",
            "  appdirs            conda-forge/noarch::appdirs-1.4.4-pyh9f0ad1d_0\n",
            "  cloudpickle        conda-forge/noarch::cloudpickle-2.0.0-pyhd8ed1ab_0\n",
            "  cycler             conda-forge/noarch::cycler-0.11.0-pyhd8ed1ab_0\n",
            "  cytoolz            conda-forge/linux-64::cytoolz-0.11.0-py37h5e8e339_3\n",
            "  dask-core          conda-forge/noarch::dask-core-2021.11.0-pyhd8ed1ab_0\n",
            "  enum34             conda-forge/linux-64::enum34-1.1.10-py37hc8dfbb8_2\n",
            "  freetype           conda-forge/linux-64::freetype-2.10.4-h0708190_1\n",
            "  fsspec             conda-forge/noarch::fsspec-2021.11.0-pyhd8ed1ab_0\n",
            "  imagecodecs-lite   conda-forge/linux-64::imagecodecs-lite-2019.12.3-py37h902c9e0_3\n",
            "  imageio            conda-forge/noarch::imageio-2.9.0-py_0\n",
            "  jpeg               conda-forge/linux-64::jpeg-9d-h36c2ea0_0\n",
            "  kiwisolver         pkgs/main/linux-64::kiwisolver-1.3.1-py37h2531618_0\n",
            "  libblas            conda-forge/linux-64::libblas-3.9.0-11_linux64_openblas\n",
            "  libcblas           conda-forge/linux-64::libcblas-3.9.0-11_linux64_openblas\n",
            "  libgfortran-ng     conda-forge/linux-64::libgfortran-ng-11.2.0-h69a702a_11\n",
            "  libgfortran5       conda-forge/linux-64::libgfortran5-11.2.0-h5c6108e_11\n",
            "  liblapack          conda-forge/linux-64::liblapack-3.9.0-11_linux64_openblas\n",
            "  libopenblas        conda-forge/linux-64::libopenblas-0.3.17-pthreads_h8fe5266_1\n",
            "  libpng             conda-forge/linux-64::libpng-1.6.37-h21135ba_2\n",
            "  libtiff            conda-forge/linux-64::libtiff-4.0.10-hc3755c2_1005\n",
            "  locket             conda-forge/noarch::locket-0.2.0-py_2\n",
            "  matplotlib-base    conda-forge/linux-64::matplotlib-base-3.3.4-py37h0c9df89_0\n",
            "  networkx           conda-forge/noarch::networkx-2.6.3-pyhd8ed1ab_1\n",
            "  numpy              conda-forge/linux-64::numpy-1.20.3-py37h038b26d_1\n",
            "  olefile            conda-forge/noarch::olefile-0.46-pyh9f0ad1d_1\n",
            "  packaging          conda-forge/noarch::packaging-21.0-pyhd8ed1ab_0\n",
            "  pandas             conda-forge/linux-64::pandas-1.2.5-py37h219a48f_0\n",
            "  partd              conda-forge/noarch::partd-1.2.0-pyhd8ed1ab_0\n",
            "  pathlib            conda-forge/linux-64::pathlib-1.0.1-py37h89c1867_5\n",
            "  pillow             conda-forge/linux-64::pillow-6.2.1-py37h6b7be26_0\n",
            "  pooch              conda-forge/noarch::pooch-1.5.2-pyhd8ed1ab_0\n",
            "  pyparsing          conda-forge/noarch::pyparsing-3.0.4-pyhd8ed1ab_0\n",
            "  python-dateutil    conda-forge/noarch::python-dateutil-2.8.2-pyhd8ed1ab_0\n",
            "  pytz               conda-forge/noarch::pytz-2021.3-pyhd8ed1ab_0\n",
            "  pywavelets         conda-forge/linux-64::pywavelets-1.1.1-py37h902c9e0_3\n",
            "  pyyaml             conda-forge/linux-64::pyyaml-5.4.1-py37h5e8e339_0\n",
            "  scikit-image       conda-forge/linux-64::scikit-image-0.18.1-py37hdc94413_0\n",
            "  scipy              conda-forge/linux-64::scipy-1.6.3-py37h29e03ee_0\n",
            "  tifffile           conda-forge/linux-64::tifffile-2019.7.26.2-py37_0\n",
            "  toolz              conda-forge/noarch::toolz-0.11.2-pyhd8ed1ab_0\n",
            "  tornado            conda-forge/linux-64::tornado-6.1-py37h5e8e339_1\n",
            "\n",
            "The following packages will be UPDATED:\n",
            "\n",
            "  ca-certificates                      2020.12.5-ha878542_0 --> 2021.10.8-ha878542_0\n",
            "  certifi                          2020.12.5-py37h89c1867_1 --> 2021.10.8-py37h89c1867_1\n",
            "  conda                                4.9.2-py37h89c1867_0 --> 4.10.3-py37h89c1867_3\n",
            "  python_abi                                    3.7-1_cp37m --> 3.7-2_cp37m\n",
            "\n",
            "\n",
            "\n",
            "Downloading and Extracting Packages\n",
            "pyparsing-3.0.4      | 78 KB     | : 100% 1.0/1 [00:00<00:00,  9.72it/s]\n",
            "scikit-image-0.18.1  | 11.5 MB   | : 100% 1.0/1 [00:01<00:00,  1.73s/it]\n",
            "kiwisolver-1.3.1     | 80 KB     | : 100% 1.0/1 [00:00<00:00,  9.63it/s]\n",
            "libpng-1.6.37        | 306 KB    | : 100% 1.0/1 [00:00<00:00, 11.07it/s]\n",
            "locket-0.2.0         | 6 KB      | : 100% 1.0/1 [00:00<00:00, 33.89it/s]\n",
            "packaging-21.0       | 35 KB     | : 100% 1.0/1 [00:00<00:00, 30.38it/s]\n",
            "pandas-1.2.5         | 11.8 MB   | : 100% 1.0/1 [00:02<00:00,  2.49s/it]               \n",
            "pyyaml-5.4.1         | 189 KB    | : 100% 1.0/1 [00:00<00:00, 15.70it/s]\n",
            "tifffile-2019.7.26.2 | 218 KB    | : 100% 1.0/1 [00:00<00:00, 14.18it/s]\n",
            "ca-certificates-2021 | 139 KB    | : 100% 1.0/1 [00:00<00:00, 19.72it/s]\n",
            "toolz-0.11.2         | 48 KB     | : 100% 1.0/1 [00:00<00:00, 23.31it/s]\n",
            "python-dateutil-2.8. | 240 KB    | : 100% 1.0/1 [00:00<00:00, 16.53it/s]\n",
            "liblapack-3.9.0      | 11 KB     | : 100% 1.0/1 [00:00<00:00, 28.45it/s]\n",
            "imagecodecs-lite-201 | 205 KB    | : 100% 1.0/1 [00:00<00:00, 16.24it/s]\n",
            "certifi-2021.10.8    | 145 KB    | : 100% 1.0/1 [00:00<00:00, 18.93it/s]\n",
            "tornado-6.1          | 646 KB    | : 100% 1.0/1 [00:00<00:00,  5.97it/s]\n",
            "jpeg-9d              | 264 KB    | : 100% 1.0/1 [00:00<00:00, 13.03it/s]\n",
            "numpy-1.20.3         | 5.7 MB    | : 100% 1.0/1 [00:01<00:00,  1.21s/it]\n",
            "pillow-6.2.1         | 637 KB    | : 100% 1.0/1 [00:00<00:00,  6.80it/s]\n",
            "libgfortran5-11.2.0  | 1.7 MB    | : 100% 1.0/1 [00:00<00:00,  3.04it/s]\n",
            "matplotlib-base-3.3. | 6.7 MB    | : 100% 1.0/1 [00:01<00:00,  1.15s/it]               \n",
            "pooch-1.5.2          | 45 KB     | : 100% 1.0/1 [00:00<00:00, 23.14it/s]\n",
            "libopenblas-0.3.17   | 9.2 MB    | : 100% 1.0/1 [00:01<00:00,  1.63s/it]\n",
            "conda-4.10.3         | 3.1 MB    | : 100% 1.0/1 [00:00<00:00,  1.68it/s]\n",
            "appdirs-1.4.4        | 13 KB     | : 100% 1.0/1 [00:00<00:00, 23.38it/s]\n",
            "python_abi-3.7       | 4 KB      | : 100% 1.0/1 [00:00<00:00, 30.31it/s]\n",
            "dask-core-2021.11.0  | 780 KB    | : 100% 1.0/1 [00:00<00:00,  4.42it/s]\n",
            "cycler-0.11.0        | 10 KB     | : 100% 1.0/1 [00:00<00:00, 32.96it/s]\n",
            "imageio-2.9.0        | 3.1 MB    | : 100% 1.0/1 [00:00<00:00,  2.67it/s]\n",
            "fsspec-2021.11.0     | 91 KB     | : 100% 1.0/1 [00:00<00:00, 19.88it/s]\n",
            "pytz-2021.3          | 242 KB    | : 100% 1.0/1 [00:00<00:00,  7.90it/s]\n",
            "libblas-3.9.0        | 12 KB     | : 100% 1.0/1 [00:00<00:00, 28.59it/s]\n",
            "pathlib-1.0.1        | 4 KB      | : 100% 1.0/1 [00:00<00:00, 34.44it/s]\n",
            "pywavelets-1.1.1     | 4.4 MB    | : 100% 1.0/1 [00:00<00:00,  1.66it/s]\n",
            "cytoolz-0.11.0       | 403 KB    | : 100% 1.0/1 [00:00<00:00, 10.01it/s]\n",
            "enum34-1.1.10        | 4 KB      | : 100% 1.0/1 [00:00<00:00, 31.78it/s]\n",
            "networkx-2.6.3       | 1.5 MB    | : 100% 1.0/1 [00:00<00:00,  2.71it/s]\n",
            "cloudpickle-2.0.0    | 24 KB     | : 100% 1.0/1 [00:00<00:00, 25.33it/s]\n",
            "scipy-1.6.3          | 20.5 MB   | : 100% 1.0/1 [00:03<00:00,  3.58s/it]\n",
            "olefile-0.46         | 32 KB     | : 100% 1.0/1 [00:00<00:00, 25.68it/s]\n",
            "freetype-2.10.4      | 890 KB    | : 100% 1.0/1 [00:00<00:00,  5.90it/s]\n",
            "libcblas-3.9.0       | 11 KB     | : 100% 1.0/1 [00:00<00:00, 33.80it/s]\n",
            "libgfortran-ng-11.2. | 19 KB     | : 100% 1.0/1 [00:00<00:00, 30.27it/s]\n",
            "libtiff-4.0.10       | 602 KB    | : 100% 1.0/1 [00:00<00:00,  8.13it/s]\n",
            "partd-1.2.0          | 18 KB     | : 100% 1.0/1 [00:00<00:00, 23.66it/s]\n",
            "Preparing transaction: | \b\b/ \b\b- \b\b\\ \b\bdone\n",
            "Verifying transaction: / \b\b- \b\b\\ \b\b| \b\b/ \b\b- \b\b\\ \b\b| \b\b/ \b\b- \b\b\\ \b\b| \b\b/ \b\b- \b\b\\ \b\b| \b\b/ \b\b- \b\b\\ \b\b| \b\b/ \b\b- \b\b\\ \b\bdone\n",
            "Executing transaction: / \b\b- \b\b\\ \b\b| \b\b/ \b\b- \b\b\\ \b\b| \b\b/ \b\b- \b\b\\ \b\b| \b\b/ \b\b- \b\b\\ \b\b| \b\b/ \b\b- \b\b\\ \b\b| \b\b/ \b\b- \b\b\\ \b\b| \b\b/ \b\b- \b\b\\ \b\b| \b\b/ \b\b- \b\b\\ \b\b| \b\b/ \b\b- \b\b\\ \b\b| \b\b/ \b\b- \b\b\\ \b\b| \b\b/ \b\b- \b\bdone\n"
          ]
        }
      ]
    },
    {
      "cell_type": "markdown",
      "metadata": {
        "id": "z9hXl05I5BVq"
      },
      "source": [
        "#psnnr nan issue solved by adding 'x4 infront of 'hr' in benchmarks.py\n",
        "psnr not updating resolved by adding test data in folders + fixing some links in div2k.py and replacing _LR twith x2 in srdata.py\n",
        "\n",
        "Model checkpoints and logs are not saved : set two links in utility.py at line 54 and 57\n",
        " use --save-models in demo.sh\n",
        "\n",
        "clipping turned on from option.py\n"
      ]
    },
    {
      "cell_type": "code",
      "metadata": {
        "id": "59MV9VJqJK_Z"
      },
      "source": [
        "!cd '/content/drive/MyDrive/SISR/HAN/src'"
      ],
      "execution_count": 7,
      "outputs": []
    },
    {
      "cell_type": "code",
      "metadata": {
        "colab": {
          "base_uri": "https://localhost:8080/"
        },
        "id": "XKzEr0d3GgL8",
        "outputId": "3e8e8505-afe0-47e7-9f79-72f13ffcb259"
      },
      "source": [
        " !sh '/content/drive/MyDrive/SISR/HAN/src/demo.sh'"
      ],
      "execution_count": 1,
      "outputs": [
        {
          "output_type": "stream",
          "name": "stdout",
          "text": [
            "Continue from epoch 29...\n",
            "Making model...\n",
            "Preparing loss function:\n",
            "1.000 * MSE\n",
            "[Epoch 29]\tLearning rate: 1.00e-4\n",
            "[1600/15300]\t[MSE: 36.9997]\t102.3+802.7s\n",
            "[3200/15300]\t[MSE: 37.4801]\t102.5+72.2s\n",
            "[4800/15300]\t[MSE: 37.7452]\t101.8+0.9s\n",
            "[6400/15300]\t[MSE: 37.2428]\t101.7+0.0s\n",
            "[8000/15300]\t[MSE: 37.0200]\t101.7+0.0s\n",
            "[9600/15300]\t[MSE: 36.7010]\t101.8+0.0s\n",
            "[11200/15300]\t[MSE: 36.5149]\t101.8+0.0s\n",
            "[12800/15300]\t[MSE: 36.7786]\t101.9+0.0s\n",
            "[14400/15300]\t[MSE: 36.7150]\t101.7+0.0s\n",
            "\n",
            "Evaluation:\n",
            "100%|███████████████████████████████████████████| 20/20 [00:17<00:00,  1.16it/s]\n",
            "[Set20 x2]\tPSNR: 14.991 (Best: 14.997 @epoch 0)\n",
            "Forward: 17.51s\n",
            "\n",
            "Saving...\n",
            "Total: 20.45s\n",
            "\n",
            "[Epoch 30]\tLearning rate: 1.00e-4\n",
            "[1600/15300]\t[MSE: 33.7034]\t101.9+0.4s\n",
            "[3200/15300]\t[MSE: 35.7465]\t101.7+0.0s\n",
            "[4800/15300]\t[MSE: 35.8929]\t101.7+0.0s\n",
            "[6400/15300]\t[MSE: 34.9771]\t101.7+0.0s\n",
            "[8000/15300]\t[MSE: 35.3341]\t101.8+0.0s\n",
            "[9600/15300]\t[MSE: 35.2320]\t101.7+0.0s\n",
            "[11200/15300]\t[MSE: 35.7939]\t101.8+0.0s\n",
            "[12800/15300]\t[MSE: 35.7707]\t101.6+0.0s\n",
            "[14400/15300]\t[MSE: 35.9588]\t101.7+0.0s\n",
            "\n",
            "Evaluation:\n",
            "100%|███████████████████████████████████████████| 20/20 [00:14<00:00,  1.40it/s]\n",
            "[Set20 x2]\tPSNR: 14.981 (Best: 14.997 @epoch 0)\n",
            "Forward: 14.42s\n",
            "\n",
            "Saving...\n",
            "Total: 17.62s\n",
            "\n",
            "[Epoch 31]\tLearning rate: 1.00e-4\n",
            "[1600/15300]\t[MSE: 37.1721]\t101.9+0.4s\n",
            "[3200/15300]\t[MSE: 36.9472]\t101.8+0.0s\n",
            "[4800/15300]\t[MSE: 37.4645]\t101.8+0.0s\n",
            "[6400/15300]\t[MSE: 36.9536]\t101.8+0.0s\n",
            "[8000/15300]\t[MSE: 36.6572]\t101.8+0.0s\n",
            "[9600/15300]\t[MSE: 36.4609]\t101.9+0.0s\n",
            "[11200/15300]\t[MSE: 36.4015]\t101.8+0.0s\n",
            "[12800/15300]\t[MSE: 36.8240]\t101.7+0.0s\n",
            "[14400/15300]\t[MSE: 36.5035]\t101.8+0.0s\n",
            "\n",
            "Evaluation:\n",
            "100%|███████████████████████████████████████████| 20/20 [00:14<00:00,  1.36it/s]\n",
            "[Set20 x2]\tPSNR: 14.986 (Best: 14.997 @epoch 0)\n",
            "Forward: 14.90s\n",
            "\n",
            "Saving...\n",
            "Total: 18.09s\n",
            "\n",
            "[Epoch 32]\tLearning rate: 1.00e-4\n",
            "[1600/15300]\t[MSE: 37.0863]\t101.7+0.4s\n",
            "[3200/15300]\t[MSE: 35.6054]\t101.6+0.0s\n",
            "[4800/15300]\t[MSE: 35.3031]\t101.6+0.0s\n",
            "[6400/15300]\t[MSE: 35.7708]\t101.7+0.0s\n",
            "[8000/15300]\t[MSE: 36.0890]\t101.7+0.0s\n",
            "[9600/15300]\t[MSE: 36.0641]\t101.8+0.0s\n",
            "[11200/15300]\t[MSE: 36.5960]\t101.8+0.0s\n",
            "[12800/15300]\t[MSE: 36.5323]\t101.8+0.0s\n",
            "[14400/15300]\t[MSE: 36.7177]\t101.8+0.0s\n",
            "\n",
            "Evaluation:\n",
            "100%|███████████████████████████████████████████| 20/20 [00:14<00:00,  1.36it/s]\n",
            "[Set20 x2]\tPSNR: 14.993 (Best: 14.997 @epoch 0)\n",
            "Forward: 14.88s\n",
            "\n",
            "Saving...\n",
            "Total: 18.17s\n",
            "\n",
            "[Epoch 33]\tLearning rate: 1.00e-4\n",
            "[1600/15300]\t[MSE: 37.0232]\t102.2+0.4s\n",
            "[3200/15300]\t[MSE: 36.6713]\t101.9+0.0s\n",
            "[4800/15300]\t[MSE: 35.9351]\t102.0+0.0s\n",
            "[6400/15300]\t[MSE: 37.0184]\t102.0+0.0s\n",
            "[8000/15300]\t[MSE: 36.7031]\t101.9+0.0s\n",
            "[9600/15300]\t[MSE: 36.4784]\t101.8+0.0s\n",
            "[11200/15300]\t[MSE: 37.0217]\t101.8+0.0s\n",
            "[12800/15300]\t[MSE: 37.3537]\t101.8+0.0s\n",
            "[14400/15300]\t[MSE: 37.3312]\t101.8+0.0s\n",
            "\n",
            "Evaluation:\n",
            "100%|███████████████████████████████████████████| 20/20 [00:15<00:00,  1.33it/s]\n",
            "[Set20 x2]\tPSNR: 14.986 (Best: 14.997 @epoch 0)\n",
            "Forward: 15.18s\n",
            "\n",
            "Saving...\n",
            "Total: 18.50s\n",
            "\n",
            "[Epoch 34]\tLearning rate: 1.00e-4\n",
            "[1600/15300]\t[MSE: 34.3384]\t101.8+0.4s\n",
            "[3200/15300]\t[MSE: 36.6786]\t101.7+0.0s\n",
            "[4800/15300]\t[MSE: 37.1077]\t101.8+0.0s\n",
            "[6400/15300]\t[MSE: 37.1348]\t101.8+0.0s\n",
            "[8000/15300]\t[MSE: 36.8877]\t101.8+0.0s\n",
            "[9600/15300]\t[MSE: 36.7583]\t101.8+0.0s\n",
            "[11200/15300]\t[MSE: 36.9347]\t101.8+0.0s\n",
            "[12800/15300]\t[MSE: 37.1530]\t101.7+0.0s\n",
            "[14400/15300]\t[MSE: 37.2188]\t101.8+0.0s\n",
            "\n",
            "Evaluation:\n",
            "100%|███████████████████████████████████████████| 20/20 [00:15<00:00,  1.32it/s]\n",
            "[Set20 x2]\tPSNR: 14.990 (Best: 14.997 @epoch 0)\n",
            "Forward: 15.27s\n",
            "\n",
            "Saving...\n",
            "Total: 19.03s\n",
            "\n",
            "[Epoch 35]\tLearning rate: 1.00e-4\n",
            "[1600/15300]\t[MSE: 40.0909]\t102.1+0.4s\n",
            "[3200/15300]\t[MSE: 38.6731]\t101.8+0.0s\n",
            "[4800/15300]\t[MSE: 38.6735]\t101.8+0.0s\n",
            "[6400/15300]\t[MSE: 38.7293]\t101.8+0.0s\n",
            "[8000/15300]\t[MSE: 38.2551]\t101.8+0.0s\n",
            "[9600/15300]\t[MSE: 38.6236]\t101.8+0.0s\n",
            "[11200/15300]\t[MSE: 38.6486]\t101.8+0.0s\n",
            "[12800/15300]\t[MSE: 38.4425]\t101.9+0.0s\n",
            "[14400/15300]\t[MSE: 38.5293]\t101.8+0.0s\n",
            "\n",
            "Evaluation:\n",
            "100%|███████████████████████████████████████████| 20/20 [00:14<00:00,  1.36it/s]\n",
            "[Set20 x2]\tPSNR: 14.984 (Best: 14.997 @epoch 0)\n",
            "Forward: 14.89s\n",
            "\n",
            "Saving...\n",
            "Total: 17.84s\n",
            "\n",
            "[Epoch 36]\tLearning rate: 1.00e-4\n",
            "[1600/15300]\t[MSE: 38.6451]\t101.9+0.4s\n",
            "[3200/15300]\t[MSE: 39.6097]\t101.7+0.0s\n",
            "[4800/15300]\t[MSE: 40.2591]\t101.7+0.0s\n",
            "[6400/15300]\t[MSE: 39.1962]\t101.7+0.0s\n",
            "[8000/15300]\t[MSE: 39.4436]\t101.7+0.0s\n",
            "[9600/15300]\t[MSE: 39.9730]\t101.8+0.0s\n",
            "[11200/15300]\t[MSE: 40.0630]\t101.6+0.0s\n",
            "[12800/15300]\t[MSE: 39.5109]\t101.6+0.0s\n",
            "[14400/15300]\t[MSE: 39.4778]\t101.7+0.0s\n",
            "\n",
            "Evaluation:\n",
            "100%|███████████████████████████████████████████| 20/20 [00:14<00:00,  1.37it/s]\n",
            "[Set20 x2]\tPSNR: 14.987 (Best: 14.997 @epoch 0)\n",
            "Forward: 14.81s\n",
            "\n",
            "Saving...\n",
            "Total: 17.63s\n",
            "\n",
            "[Epoch 37]\tLearning rate: 1.00e-4\n",
            "[1600/15300]\t[MSE: 39.4608]\t101.8+0.4s\n",
            "Process Process-81:\n",
            "Traceback (most recent call last):\n",
            "  File \"/content/drive/MyDrive/SISR/HAN/src/main.py\", line 33, in <module>\n",
            "    main()\n",
            "  File \"/content/drive/MyDrive/SISR/HAN/src/main.py\", line 27, in main\n",
            "    t.train()\n",
            "  File \"/content/drive/.shortcut-targets-by-id/1BKwPP2ZywCKYF3dJLVL_sxW9waxXkACw/SISR/HAN/src/trainer.py\", line 60, in train\n",
            "Traceback (most recent call last):\n",
            "  File \"/usr/local/lib/python3.7/multiprocessing/process.py\", line 297, in _bootstrap\n",
            "    self.run()\n",
            "  File \"/usr/local/lib/python3.7/multiprocessing/process.py\", line 99, in run\n",
            "    self._target(*self._args, **self._kwargs)\n",
            "  File \"/usr/local/lib/python3.7/site-packages/torch/utils/data/dataloader.py\", line 96, in _worker_loop\n",
            "    r = index_queue.get(timeout=MANAGER_STATUS_CHECK_INTERVAL)\n",
            "  File \"/usr/local/lib/python3.7/multiprocessing/queues.py\", line 104, in get\n",
            "    if not self._poll(timeout):\n",
            "  File \"/usr/local/lib/python3.7/multiprocessing/connection.py\", line 257, in poll\n",
            "    return self._poll(timeout)\n",
            "  File \"/usr/local/lib/python3.7/multiprocessing/connection.py\", line 414, in _poll\n",
            "    r = wait([self], timeout)\n",
            "  File \"/usr/local/lib/python3.7/multiprocessing/connection.py\", line 921, in wait\n",
            "    ready = selector.select(timeout)\n",
            "  File \"/usr/local/lib/python3.7/selectors.py\", line 415, in select\n",
            "    fd_event_list = self._selector.poll(timeout)\n",
            "KeyboardInterrupt\n",
            "    self.optimizer.step()\n",
            "  File \"/usr/local/lib/python3.7/site-packages/torch/optim/adam.py\", line 93, in step\n",
            "    exp_avg_sq.mul_(beta2).addcmul_(1 - beta2, grad, grad)\n",
            "KeyboardInterrupt\n",
            "^C\n"
          ]
        }
      ]
    }
  ]
}