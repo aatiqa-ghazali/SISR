{
  "cells": [
    {
      "cell_type": "markdown",
      "metadata": {
        "id": "view-in-github",
        "colab_type": "text"
      },
      "source": [
        "<a href=\"https://colab.research.google.com/github/aatiqa-ghazali/SISR/blob/main/Copy_of_Untitled0.ipynb\" target=\"_parent\"><img src=\"https://colab.research.google.com/assets/colab-badge.svg\" alt=\"Open In Colab\"/></a>"
      ]
    },
    {
      "cell_type": "code",
      "execution_count": 1,
      "metadata": {
        "colab": {
          "base_uri": "https://localhost:8080/"
        },
        "id": "F2V1gxJi7r9M",
        "outputId": "6188eaaa-9231-4429-dd03-f90646adca3f"
      },
      "outputs": [
        {
          "output_type": "stream",
          "name": "stdout",
          "text": [
            "Mounted at /content/drive\n"
          ]
        }
      ],
      "source": [
        "#mounting_drive\n",
        "from google.colab import drive\n",
        "drive.mount('/content/drive', force_remount=True)"
      ]
    },
    {
      "cell_type": "code",
      "execution_count": 2,
      "metadata": {
        "id": "Dsnzpsz78kLx",
        "colab": {
          "base_uri": "https://localhost:8080/"
        },
        "outputId": "16f895e2-3bbb-40a9-e538-637ed1e47675"
      },
      "outputs": [
        {
          "output_type": "stream",
          "name": "stdout",
          "text": [
            "Requirement already satisfied: numpy in /usr/local/lib/python3.7/dist-packages (1.21.5)\n",
            "Requirement already satisfied: imageio in /usr/local/lib/python3.7/dist-packages (2.4.1)\n",
            "Requirement already satisfied: numpy in /usr/local/lib/python3.7/dist-packages (from imageio) (1.21.5)\n",
            "Requirement already satisfied: pillow in /usr/local/lib/python3.7/dist-packages (from imageio) (7.1.2)\n",
            "Requirement already satisfied: matplotlib in /usr/local/lib/python3.7/dist-packages (3.2.2)\n",
            "Requirement already satisfied: python-dateutil>=2.1 in /usr/local/lib/python3.7/dist-packages (from matplotlib) (2.8.2)\n",
            "Requirement already satisfied: kiwisolver>=1.0.1 in /usr/local/lib/python3.7/dist-packages (from matplotlib) (1.4.0)\n",
            "Requirement already satisfied: cycler>=0.10 in /usr/local/lib/python3.7/dist-packages (from matplotlib) (0.11.0)\n",
            "Requirement already satisfied: numpy>=1.11 in /usr/local/lib/python3.7/dist-packages (from matplotlib) (1.21.5)\n",
            "Requirement already satisfied: pyparsing!=2.0.4,!=2.1.2,!=2.1.6,>=2.0.1 in /usr/local/lib/python3.7/dist-packages (from matplotlib) (3.0.7)\n",
            "Requirement already satisfied: typing-extensions in /usr/local/lib/python3.7/dist-packages (from kiwisolver>=1.0.1->matplotlib) (3.10.0.2)\n",
            "Requirement already satisfied: six>=1.5 in /usr/local/lib/python3.7/dist-packages (from python-dateutil>=2.1->matplotlib) (1.15.0)\n",
            "Requirement already satisfied: tqdm in /usr/local/lib/python3.7/dist-packages (4.63.0)\n",
            "Reading package lists... Done\n",
            "Building dependency tree       \n",
            "Reading state information... Done\n",
            "python-opencv is already the newest version (3.2.0+dfsg-4ubuntu0.1).\n",
            "0 upgraded, 0 newly installed, 0 to remove and 39 not upgraded.\n",
            "Requirement already satisfied: scikit-image in /usr/local/lib/python3.7/dist-packages (0.19.2)\n",
            "Requirement already satisfied: PyWavelets>=1.1.1 in /usr/local/lib/python3.7/dist-packages (from scikit-image) (1.3.0)\n",
            "Requirement already satisfied: tifffile>=2019.7.26 in /usr/local/lib/python3.7/dist-packages (from scikit-image) (2021.11.2)\n",
            "Requirement already satisfied: imageio>=2.4.1 in /usr/local/lib/python3.7/dist-packages (from scikit-image) (2.4.1)\n",
            "Requirement already satisfied: pillow!=7.1.0,!=7.1.1,!=8.3.0,>=6.1.0 in /usr/local/lib/python3.7/dist-packages (from scikit-image) (7.1.2)\n",
            "Requirement already satisfied: packaging>=20.0 in /usr/local/lib/python3.7/dist-packages (from scikit-image) (21.3)\n",
            "Requirement already satisfied: numpy>=1.17.0 in /usr/local/lib/python3.7/dist-packages (from scikit-image) (1.21.5)\n",
            "Requirement already satisfied: networkx>=2.2 in /usr/local/lib/python3.7/dist-packages (from scikit-image) (2.6.3)\n",
            "Requirement already satisfied: scipy>=1.4.1 in /usr/local/lib/python3.7/dist-packages (from scikit-image) (1.4.1)\n",
            "Requirement already satisfied: pyparsing!=3.0.5,>=2.0.2 in /usr/local/lib/python3.7/dist-packages (from packaging>=20.0->scikit-image) (3.0.7)\n"
          ]
        }
      ],
      "source": [
        "!pip install numpy\n",
        "!pip install imageio\n",
        "!pip install matplotlib\n",
        "!pip install tqdm\n",
        "!apt-get install python-opencv\n",
        "!python -m pip install -U scikit-image\n"
      ]
    },
    {
      "cell_type": "code",
      "execution_count": 3,
      "metadata": {
        "id": "JbQ1VhT8_rOf",
        "colab": {
          "base_uri": "https://localhost:8080/"
        },
        "outputId": "9de26da7-0043-4a40-e136-b3a03cade8fe"
      },
      "outputs": [
        {
          "output_type": "stream",
          "name": "stdout",
          "text": [
            "Requirement already satisfied: tensorflow in /usr/local/lib/python3.7/dist-packages (2.8.0)\n",
            "Requirement already satisfied: google-pasta>=0.1.1 in /usr/local/lib/python3.7/dist-packages (from tensorflow) (0.2.0)\n",
            "Requirement already satisfied: numpy>=1.20 in /usr/local/lib/python3.7/dist-packages (from tensorflow) (1.21.5)\n",
            "Requirement already satisfied: flatbuffers>=1.12 in /usr/local/lib/python3.7/dist-packages (from tensorflow) (2.0)\n",
            "Requirement already satisfied: six>=1.12.0 in /usr/local/lib/python3.7/dist-packages (from tensorflow) (1.15.0)\n",
            "Requirement already satisfied: wrapt>=1.11.0 in /usr/local/lib/python3.7/dist-packages (from tensorflow) (1.14.0)\n",
            "Requirement already satisfied: gast>=0.2.1 in /usr/local/lib/python3.7/dist-packages (from tensorflow) (0.5.3)\n",
            "Requirement already satisfied: grpcio<2.0,>=1.24.3 in /usr/local/lib/python3.7/dist-packages (from tensorflow) (1.44.0)\n",
            "Requirement already satisfied: keras<2.9,>=2.8.0rc0 in /usr/local/lib/python3.7/dist-packages (from tensorflow) (2.8.0)\n",
            "Requirement already satisfied: setuptools in /usr/local/lib/python3.7/dist-packages (from tensorflow) (57.4.0)\n",
            "Requirement already satisfied: typing-extensions>=3.6.6 in /usr/local/lib/python3.7/dist-packages (from tensorflow) (3.10.0.2)\n",
            "Requirement already satisfied: tensorflow-io-gcs-filesystem>=0.23.1 in /usr/local/lib/python3.7/dist-packages (from tensorflow) (0.24.0)\n",
            "Requirement already satisfied: keras-preprocessing>=1.1.1 in /usr/local/lib/python3.7/dist-packages (from tensorflow) (1.1.2)\n",
            "Requirement already satisfied: absl-py>=0.4.0 in /usr/local/lib/python3.7/dist-packages (from tensorflow) (1.0.0)\n",
            "Requirement already satisfied: opt-einsum>=2.3.2 in /usr/local/lib/python3.7/dist-packages (from tensorflow) (3.3.0)\n",
            "Requirement already satisfied: termcolor>=1.1.0 in /usr/local/lib/python3.7/dist-packages (from tensorflow) (1.1.0)\n",
            "Requirement already satisfied: astunparse>=1.6.0 in /usr/local/lib/python3.7/dist-packages (from tensorflow) (1.6.3)\n",
            "Requirement already satisfied: tf-estimator-nightly==2.8.0.dev2021122109 in /usr/local/lib/python3.7/dist-packages (from tensorflow) (2.8.0.dev2021122109)\n",
            "Requirement already satisfied: tensorboard<2.9,>=2.8 in /usr/local/lib/python3.7/dist-packages (from tensorflow) (2.8.0)\n",
            "Requirement already satisfied: protobuf>=3.9.2 in /usr/local/lib/python3.7/dist-packages (from tensorflow) (3.17.3)\n",
            "Requirement already satisfied: h5py>=2.9.0 in /usr/local/lib/python3.7/dist-packages (from tensorflow) (3.1.0)\n",
            "Requirement already satisfied: libclang>=9.0.1 in /usr/local/lib/python3.7/dist-packages (from tensorflow) (13.0.0)\n",
            "Requirement already satisfied: wheel<1.0,>=0.23.0 in /usr/local/lib/python3.7/dist-packages (from astunparse>=1.6.0->tensorflow) (0.37.1)\n",
            "Requirement already satisfied: cached-property in /usr/local/lib/python3.7/dist-packages (from h5py>=2.9.0->tensorflow) (1.5.2)\n",
            "Requirement already satisfied: google-auth-oauthlib<0.5,>=0.4.1 in /usr/local/lib/python3.7/dist-packages (from tensorboard<2.9,>=2.8->tensorflow) (0.4.6)\n",
            "Requirement already satisfied: requests<3,>=2.21.0 in /usr/local/lib/python3.7/dist-packages (from tensorboard<2.9,>=2.8->tensorflow) (2.23.0)\n",
            "Requirement already satisfied: tensorboard-plugin-wit>=1.6.0 in /usr/local/lib/python3.7/dist-packages (from tensorboard<2.9,>=2.8->tensorflow) (1.8.1)\n",
            "Requirement already satisfied: markdown>=2.6.8 in /usr/local/lib/python3.7/dist-packages (from tensorboard<2.9,>=2.8->tensorflow) (3.3.6)\n",
            "Requirement already satisfied: google-auth<3,>=1.6.3 in /usr/local/lib/python3.7/dist-packages (from tensorboard<2.9,>=2.8->tensorflow) (1.35.0)\n",
            "Requirement already satisfied: tensorboard-data-server<0.7.0,>=0.6.0 in /usr/local/lib/python3.7/dist-packages (from tensorboard<2.9,>=2.8->tensorflow) (0.6.1)\n",
            "Requirement already satisfied: werkzeug>=0.11.15 in /usr/local/lib/python3.7/dist-packages (from tensorboard<2.9,>=2.8->tensorflow) (1.0.1)\n",
            "Requirement already satisfied: rsa<5,>=3.1.4 in /usr/local/lib/python3.7/dist-packages (from google-auth<3,>=1.6.3->tensorboard<2.9,>=2.8->tensorflow) (4.8)\n",
            "Requirement already satisfied: cachetools<5.0,>=2.0.0 in /usr/local/lib/python3.7/dist-packages (from google-auth<3,>=1.6.3->tensorboard<2.9,>=2.8->tensorflow) (4.2.4)\n",
            "Requirement already satisfied: pyasn1-modules>=0.2.1 in /usr/local/lib/python3.7/dist-packages (from google-auth<3,>=1.6.3->tensorboard<2.9,>=2.8->tensorflow) (0.2.8)\n",
            "Requirement already satisfied: requests-oauthlib>=0.7.0 in /usr/local/lib/python3.7/dist-packages (from google-auth-oauthlib<0.5,>=0.4.1->tensorboard<2.9,>=2.8->tensorflow) (1.3.1)\n",
            "Requirement already satisfied: importlib-metadata>=4.4 in /usr/local/lib/python3.7/dist-packages (from markdown>=2.6.8->tensorboard<2.9,>=2.8->tensorflow) (4.11.3)\n",
            "Requirement already satisfied: zipp>=0.5 in /usr/local/lib/python3.7/dist-packages (from importlib-metadata>=4.4->markdown>=2.6.8->tensorboard<2.9,>=2.8->tensorflow) (3.7.0)\n",
            "Requirement already satisfied: pyasn1<0.5.0,>=0.4.6 in /usr/local/lib/python3.7/dist-packages (from pyasn1-modules>=0.2.1->google-auth<3,>=1.6.3->tensorboard<2.9,>=2.8->tensorflow) (0.4.8)\n",
            "Requirement already satisfied: idna<3,>=2.5 in /usr/local/lib/python3.7/dist-packages (from requests<3,>=2.21.0->tensorboard<2.9,>=2.8->tensorflow) (2.10)\n",
            "Requirement already satisfied: urllib3!=1.25.0,!=1.25.1,<1.26,>=1.21.1 in /usr/local/lib/python3.7/dist-packages (from requests<3,>=2.21.0->tensorboard<2.9,>=2.8->tensorflow) (1.24.3)\n",
            "Requirement already satisfied: certifi>=2017.4.17 in /usr/local/lib/python3.7/dist-packages (from requests<3,>=2.21.0->tensorboard<2.9,>=2.8->tensorflow) (2021.10.8)\n",
            "Requirement already satisfied: chardet<4,>=3.0.2 in /usr/local/lib/python3.7/dist-packages (from requests<3,>=2.21.0->tensorboard<2.9,>=2.8->tensorflow) (3.0.4)\n",
            "Requirement already satisfied: oauthlib>=3.0.0 in /usr/local/lib/python3.7/dist-packages (from requests-oauthlib>=0.7.0->google-auth-oauthlib<0.5,>=0.4.1->tensorboard<2.9,>=2.8->tensorflow) (3.2.0)\n",
            "Requirement already satisfied: ipykernel in /usr/local/lib/python3.7/dist-packages (4.10.1)\n",
            "Requirement already satisfied: ipython>=4.0.0 in /usr/local/lib/python3.7/dist-packages (from ipykernel) (5.5.0)\n",
            "Requirement already satisfied: tornado>=4.0 in /usr/local/lib/python3.7/dist-packages (from ipykernel) (5.1.1)\n",
            "Requirement already satisfied: traitlets>=4.1.0 in /usr/local/lib/python3.7/dist-packages (from ipykernel) (5.1.1)\n",
            "Requirement already satisfied: jupyter-client in /usr/local/lib/python3.7/dist-packages (from ipykernel) (5.3.5)\n",
            "Requirement already satisfied: prompt-toolkit<2.0.0,>=1.0.4 in /usr/local/lib/python3.7/dist-packages (from ipython>=4.0.0->ipykernel) (1.0.18)\n",
            "Requirement already satisfied: decorator in /usr/local/lib/python3.7/dist-packages (from ipython>=4.0.0->ipykernel) (4.4.2)\n",
            "Requirement already satisfied: pexpect in /usr/local/lib/python3.7/dist-packages (from ipython>=4.0.0->ipykernel) (4.8.0)\n",
            "Requirement already satisfied: pickleshare in /usr/local/lib/python3.7/dist-packages (from ipython>=4.0.0->ipykernel) (0.7.5)\n",
            "Requirement already satisfied: setuptools>=18.5 in /usr/local/lib/python3.7/dist-packages (from ipython>=4.0.0->ipykernel) (57.4.0)\n",
            "Requirement already satisfied: simplegeneric>0.8 in /usr/local/lib/python3.7/dist-packages (from ipython>=4.0.0->ipykernel) (0.8.1)\n",
            "Requirement already satisfied: pygments in /usr/local/lib/python3.7/dist-packages (from ipython>=4.0.0->ipykernel) (2.6.1)\n",
            "Requirement already satisfied: six>=1.9.0 in /usr/local/lib/python3.7/dist-packages (from prompt-toolkit<2.0.0,>=1.0.4->ipython>=4.0.0->ipykernel) (1.15.0)\n",
            "Requirement already satisfied: wcwidth in /usr/local/lib/python3.7/dist-packages (from prompt-toolkit<2.0.0,>=1.0.4->ipython>=4.0.0->ipykernel) (0.2.5)\n",
            "Requirement already satisfied: pyzmq>=13 in /usr/local/lib/python3.7/dist-packages (from jupyter-client->ipykernel) (22.3.0)\n",
            "Requirement already satisfied: jupyter-core>=4.6.0 in /usr/local/lib/python3.7/dist-packages (from jupyter-client->ipykernel) (4.9.2)\n",
            "Requirement already satisfied: python-dateutil>=2.1 in /usr/local/lib/python3.7/dist-packages (from jupyter-client->ipykernel) (2.8.2)\n",
            "Requirement already satisfied: ptyprocess>=0.5 in /usr/local/lib/python3.7/dist-packages (from pexpect->ipython>=4.0.0->ipykernel) (0.7.0)\n",
            "Requirement already satisfied: astor in /usr/local/lib/python3.7/dist-packages (0.8.1)\n"
          ]
        }
      ],
      "source": [
        "!pip install tensorflow \n",
        "!pip install ipykernel \n",
        "!pip install astor\n"
      ]
    },
    {
      "cell_type": "code",
      "execution_count": 4,
      "metadata": {
        "id": "JZfKEMOhA7mR",
        "colab": {
          "base_uri": "https://localhost:8080/"
        },
        "outputId": "9e91ef4e-7bb8-49e4-b8e2-d4f67fec3793"
      },
      "outputs": [
        {
          "output_type": "stream",
          "name": "stdout",
          "text": [
            "`%tensorflow_version` only switches the major version: 1.x or 2.x.\n",
            "You set: `1.12`. This will be interpreted as: `1.x`.\n",
            "\n",
            "\n",
            "TensorFlow 1.x selected.\n"
          ]
        }
      ],
      "source": [
        "%tensorflow_version 1.12"
      ]
    },
    {
      "cell_type": "code",
      "execution_count": 5,
      "metadata": {
        "id": "GTwy80Cn-gBz",
        "colab": {
          "base_uri": "https://localhost:8080/"
        },
        "outputId": "25bc0100-4dc8-48bc-b5b0-52a836a510eb"
      },
      "outputs": [
        {
          "output_type": "stream",
          "name": "stdout",
          "text": [
            "1.15.2\n"
          ]
        }
      ],
      "source": [
        "import tensorflow as tf\n",
        "print(tf. __version__)"
      ]
    },
    {
      "cell_type": "code",
      "execution_count": 6,
      "metadata": {
        "id": "j48lzm-qrWV7",
        "colab": {
          "base_uri": "https://localhost:8080/"
        },
        "outputId": "acfab13d-423d-4261-d66e-f4bae084d302"
      },
      "outputs": [
        {
          "output_type": "stream",
          "name": "stdout",
          "text": [
            "Requirement already satisfied: tfutil in /usr/local/lib/python3.7/dist-packages (0.8.1)\n"
          ]
        }
      ],
      "source": [
        "!pip install tfutil"
      ]
    },
    {
      "cell_type": "code",
      "execution_count": 7,
      "metadata": {
        "id": "Lk26lLKZxyb1"
      },
      "outputs": [],
      "source": [
        "from PIL import Image                                              \n",
        "import os, sys "
      ]
    },
    {
      "cell_type": "code",
      "execution_count": null,
      "metadata": {
        "id": "QTu2ZZ6Y8Jet",
        "colab": {
          "base_uri": "https://localhost:8080/"
        },
        "outputId": "8acb5238-fa47-4af9-ccd3-a46d2e2c75c5"
      },
      "outputs": [
        {
          "output_type": "stream",
          "name": "stdout",
          "text": [
            "WARNING:tensorflow:From /content/drive/.shortcut-targets-by-id/1BKwPP2ZywCKYF3dJLVL_sxW9waxXkACw/SISR/Pyramids_deraining/pyramids-derain/code/tfutil.py:12: The name tf.set_random_seed is deprecated. Please use tf.compat.v1.set_random_seed instead.\n",
            "\n",
            "WARNING:tensorflow:\n",
            "The TensorFlow contrib module will not be included in TensorFlow 2.0.\n",
            "For more information, please see:\n",
            "  * https://github.com/tensorflow/community/blob/master/rfcs/20180907-contrib-sunset.md\n",
            "  * https://github.com/tensorflow/addons\n",
            "  * https://github.com/tensorflow/io (for I/O related ops)\n",
            "If you depend on functionality not listed there, please file an issue.\n",
            "\n",
            "WARNING:tensorflow:From /content/drive/MyDrive/SISR/Pyramids_deraining/pyramids-derain/code/training.py:58: The name tf.reset_default_graph is deprecated. Please use tf.compat.v1.reset_default_graph instead.\n",
            "\n",
            "<DatasetV1Adapter shapes: ((), ()), types: (tf.string, tf.string)>\n",
            "WARNING:tensorflow:Entity <function _parse_function at 0x7f0fabdc0170> could not be transformed and will be executed as-is. Please report this to the AutoGraph team. When filing the bug, set the verbosity to 10 (on Linux, `export AUTOGRAPH_VERBOSITY=10`) and attach the full output. Cause: module 'gast' has no attribute 'Str'\n",
            "WARNING:tensorflow:From /content/drive/MyDrive/SISR/Pyramids_deraining/pyramids-derain/code/training.py:42: The name tf.read_file is deprecated. Please use tf.io.read_file instead.\n",
            "\n",
            "WARNING:tensorflow:From /content/drive/MyDrive/SISR/Pyramids_deraining/pyramids-derain/code/training.py:51: The name tf.random_crop is deprecated. Please use tf.image.random_crop instead.\n",
            "\n",
            "WARNING:tensorflow:From /content/drive/MyDrive/SISR/Pyramids_deraining/pyramids-derain/code/training.py:76: DatasetV1.make_one_shot_iterator (from tensorflow.python.data.ops.dataset_ops) is deprecated and will be removed in a future version.\n",
            "Instructions for updating:\n",
            "Use `for ... in dataset:` to iterate over a dataset. If using `tf.estimator`, return the `Dataset` object directly from your input function. As a last resort, you can use `tf.compat.v1.data.make_one_shot_iterator(dataset)`.\n",
            "WARNING:tensorflow:From /content/drive/.shortcut-targets-by-id/1BKwPP2ZywCKYF3dJLVL_sxW9waxXkACw/SISR/Pyramids_deraining/pyramids-derain/code/model.py:245: The name tf.variable_scope is deprecated. Please use tf.compat.v1.variable_scope instead.\n",
            "\n",
            "WARNING:tensorflow:From /content/drive/.shortcut-targets-by-id/1BKwPP2ZywCKYF3dJLVL_sxW9waxXkACw/SISR/Pyramids_deraining/pyramids-derain/code/model.py:245: The name tf.AUTO_REUSE is deprecated. Please use tf.compat.v1.AUTO_REUSE instead.\n",
            "\n",
            "[<tf.Tensor 'inference/split_3/Conv2D:0' shape=(?, 5, 5, 3) dtype=float32>, <tf.Tensor 'inference/split_3/sub:0' shape=(?, 10, 10, 3) dtype=float32>, <tf.Tensor 'inference/split_2/sub:0' shape=(?, 20, 20, 3) dtype=float32>, <tf.Tensor 'inference/split_1/sub:0' shape=(?, 40, 40, 3) dtype=float32>, <tf.Tensor 'inference/split/sub:0' shape=(?, 80, 80, 3) dtype=float32>]\n",
            "WARNING:tensorflow:From /content/drive/.shortcut-targets-by-id/1BKwPP2ZywCKYF3dJLVL_sxW9waxXkACw/SISR/Pyramids_deraining/pyramids-derain/code/model.py:62: The name tf.get_variable is deprecated. Please use tf.compat.v1.get_variable instead.\n",
            "\n",
            "WARNING:tensorflow:From /content/drive/.shortcut-targets-by-id/1BKwPP2ZywCKYF3dJLVL_sxW9waxXkACw/SISR/Pyramids_deraining/pyramids-derain/code/model.py:191: conv2d (from tensorflow.python.layers.convolutional) is deprecated and will be removed in a future version.\n",
            "Instructions for updating:\n",
            "Use `tf.keras.layers.Conv2D` instead.\n",
            "WARNING:tensorflow:From /tensorflow-1.15.2/python3.7/tensorflow_core/python/layers/convolutional.py:424: Layer.apply (from tensorflow.python.keras.engine.base_layer) is deprecated and will be removed in a future version.\n",
            "Instructions for updating:\n",
            "Please use `layer.__call__` method instead.\n",
            "(?, 5, 5, 1)\n",
            "(?, 5, 5, 1)\n",
            "(?, 5, 5, 1)\n",
            "(?, 5, 5, 1)\n",
            "(?, 5, 5, 1)\n",
            "(?, 5, 5, 1)\n",
            "(?, 5, 5, 1)\n",
            "(?, 5, 5, 1)\n",
            "(?, 5, 5, 1)\n",
            "(?, 5, 5, 1)\n",
            "(?, 5, 5, 1)\n",
            "(?, 5, 5, 1)\n",
            "(?, 5, 5, 1)\n",
            "(?, 5, 5, 1)\n",
            "(?, 5, 5, 1)\n",
            "(?, 5, 5, 1)\n",
            "(?, 5, 5, 1)\n",
            "(?, 5, 5, 1)\n",
            "(?, 5, 5, 1)\n",
            "(?, 5, 5, 1)\n",
            "(?, 10, 10, 1)\n",
            "(?, 10, 10, 1)\n",
            "(?, 10, 10, 1)\n",
            "(?, 10, 10, 1)\n",
            "(?, 10, 10, 1)\n",
            "(?, 10, 10, 1)\n",
            "(?, 10, 10, 1)\n",
            "(?, 10, 10, 1)\n",
            "(?, 10, 10, 1)\n",
            "(?, 10, 10, 1)\n",
            "(?, 10, 10, 1)\n",
            "(?, 10, 10, 1)\n",
            "(?, 10, 10, 1)\n",
            "(?, 10, 10, 1)\n",
            "(?, 10, 10, 1)\n",
            "(?, 10, 10, 1)\n",
            "(?, 10, 10, 1)\n",
            "(?, 10, 10, 1)\n",
            "(?, 10, 10, 1)\n",
            "(?, 10, 10, 1)\n",
            "(?, 20, 20, 1)\n",
            "(?, 20, 20, 1)\n",
            "(?, 20, 20, 1)\n",
            "(?, 20, 20, 1)\n",
            "(?, 20, 20, 1)\n",
            "(?, 20, 20, 1)\n",
            "(?, 20, 20, 1)\n",
            "(?, 20, 20, 1)\n",
            "(?, 20, 20, 1)\n",
            "(?, 20, 20, 1)\n",
            "(?, 20, 20, 1)\n",
            "(?, 20, 20, 1)\n",
            "(?, 20, 20, 1)\n",
            "(?, 20, 20, 1)\n",
            "(?, 20, 20, 1)\n",
            "(?, 20, 20, 1)\n",
            "(?, 20, 20, 1)\n",
            "(?, 20, 20, 1)\n",
            "(?, 20, 20, 1)\n",
            "(?, 20, 20, 1)\n",
            "(?, 40, 40, 1)\n",
            "(?, 40, 40, 1)\n",
            "(?, 40, 40, 1)\n",
            "(?, 40, 40, 1)\n",
            "(?, 40, 40, 1)\n",
            "(?, 40, 40, 1)\n",
            "(?, 40, 40, 1)\n",
            "(?, 40, 40, 1)\n",
            "(?, 40, 40, 1)\n",
            "(?, 40, 40, 1)\n",
            "(?, 40, 40, 1)\n",
            "(?, 40, 40, 1)\n",
            "(?, 40, 40, 1)\n",
            "(?, 40, 40, 1)\n",
            "(?, 40, 40, 1)\n",
            "(?, 40, 40, 1)\n",
            "(?, 40, 40, 1)\n",
            "(?, 40, 40, 1)\n",
            "(?, 40, 40, 1)\n",
            "(?, 40, 40, 1)\n",
            "(?, 80, 80, 1)\n",
            "(?, 80, 80, 1)\n",
            "(?, 80, 80, 1)\n",
            "(?, 80, 80, 1)\n",
            "(?, 80, 80, 1)\n",
            "(?, 80, 80, 1)\n",
            "(?, 80, 80, 1)\n",
            "(?, 80, 80, 1)\n",
            "(?, 80, 80, 1)\n",
            "(?, 80, 80, 1)\n",
            "(?, 80, 80, 1)\n",
            "(?, 80, 80, 1)\n",
            "(?, 80, 80, 1)\n",
            "(?, 80, 80, 1)\n",
            "(?, 80, 80, 1)\n",
            "(?, 80, 80, 1)\n",
            "(?, 80, 80, 1)\n",
            "(?, 80, 80, 1)\n",
            "(?, 80, 80, 1)\n",
            "(?, 80, 80, 1)\n",
            "WARNING:tensorflow:From /content/drive/MyDrive/SISR/Pyramids_deraining/pyramids-derain/code/training.py:98: The name tf.train.AdamOptimizer is deprecated. Please use tf.compat.v1.train.AdamOptimizer instead.\n",
            "\n",
            "WARNING:tensorflow:From /tensorflow-1.15.2/python3.7/tensorflow_core/python/ops/math_grad.py:1424: where (from tensorflow.python.ops.array_ops) is deprecated and will be removed in a future version.\n",
            "Instructions for updating:\n",
            "Use tf.where in 2.0, which has the same broadcast rule as np.where\n",
            "WARNING:tensorflow:From /content/drive/MyDrive/SISR/Pyramids_deraining/pyramids-derain/code/training.py:100: The name tf.trainable_variables is deprecated. Please use tf.compat.v1.trainable_variables instead.\n",
            "\n",
            "WARNING:tensorflow:From /content/drive/MyDrive/SISR/Pyramids_deraining/pyramids-derain/code/training.py:101: The name tf.train.Saver is deprecated. Please use tf.compat.v1.train.Saver instead.\n",
            "\n",
            "WARNING:tensorflow:From /content/drive/MyDrive/SISR/Pyramids_deraining/pyramids-derain/code/training.py:104: The name tf.ConfigProto is deprecated. Please use tf.compat.v1.ConfigProto instead.\n",
            "\n",
            "WARNING:tensorflow:From /content/drive/MyDrive/SISR/Pyramids_deraining/pyramids-derain/code/training.py:106: The name tf.Session is deprecated. Please use tf.compat.v1.Session instead.\n",
            "\n",
            "2022-03-31 13:47:39.420217: I tensorflow/core/platform/profile_utils/cpu_utils.cc:94] CPU Frequency: 2299995000 Hz\n",
            "2022-03-31 13:47:39.420559: I tensorflow/compiler/xla/service/service.cc:168] XLA service 0x55c4c3e1bd40 initialized for platform Host (this does not guarantee that XLA will be used). Devices:\n",
            "2022-03-31 13:47:39.420600: I tensorflow/compiler/xla/service/service.cc:176]   StreamExecutor device (0): Host, Default Version\n",
            "2022-03-31 13:47:39.422679: I tensorflow/stream_executor/platform/default/dso_loader.cc:44] Successfully opened dynamic library libcuda.so.1\n",
            "2022-03-31 13:47:39.547070: I tensorflow/stream_executor/cuda/cuda_gpu_executor.cc:983] successful NUMA node read from SysFS had negative value (-1), but there must be at least one NUMA node, so returning NUMA node zero\n",
            "2022-03-31 13:47:39.547955: I tensorflow/compiler/xla/service/service.cc:168] XLA service 0x55c4c3e1b100 initialized for platform CUDA (this does not guarantee that XLA will be used). Devices:\n",
            "2022-03-31 13:47:39.547999: I tensorflow/compiler/xla/service/service.cc:176]   StreamExecutor device (0): Tesla K80, Compute Capability 3.7\n",
            "2022-03-31 13:47:39.548188: I tensorflow/stream_executor/cuda/cuda_gpu_executor.cc:983] successful NUMA node read from SysFS had negative value (-1), but there must be at least one NUMA node, so returning NUMA node zero\n",
            "2022-03-31 13:47:39.548931: I tensorflow/core/common_runtime/gpu/gpu_device.cc:1639] Found device 0 with properties: \n",
            "name: Tesla K80 major: 3 minor: 7 memoryClockRate(GHz): 0.8235\n",
            "pciBusID: 0000:00:04.0\n",
            "2022-03-31 13:47:39.549340: I tensorflow/stream_executor/platform/default/dso_loader.cc:44] Successfully opened dynamic library libcudart.so.10.1\n",
            "2022-03-31 13:47:39.551192: I tensorflow/stream_executor/platform/default/dso_loader.cc:44] Successfully opened dynamic library libcublas.so.10\n",
            "2022-03-31 13:47:39.552276: I tensorflow/stream_executor/platform/default/dso_loader.cc:44] Successfully opened dynamic library libcufft.so.10\n",
            "2022-03-31 13:47:39.552765: I tensorflow/stream_executor/platform/default/dso_loader.cc:44] Successfully opened dynamic library libcurand.so.10\n",
            "2022-03-31 13:47:39.554991: I tensorflow/stream_executor/platform/default/dso_loader.cc:44] Successfully opened dynamic library libcusolver.so.10\n",
            "2022-03-31 13:47:39.556202: I tensorflow/stream_executor/platform/default/dso_loader.cc:44] Successfully opened dynamic library libcusparse.so.10\n",
            "2022-03-31 13:47:39.560058: I tensorflow/stream_executor/platform/default/dso_loader.cc:44] Successfully opened dynamic library libcudnn.so.7\n",
            "2022-03-31 13:47:39.560178: I tensorflow/stream_executor/cuda/cuda_gpu_executor.cc:983] successful NUMA node read from SysFS had negative value (-1), but there must be at least one NUMA node, so returning NUMA node zero\n",
            "2022-03-31 13:47:39.560946: I tensorflow/stream_executor/cuda/cuda_gpu_executor.cc:983] successful NUMA node read from SysFS had negative value (-1), but there must be at least one NUMA node, so returning NUMA node zero\n",
            "2022-03-31 13:47:39.561626: I tensorflow/core/common_runtime/gpu/gpu_device.cc:1767] Adding visible gpu devices: 0\n",
            "2022-03-31 13:47:39.561705: I tensorflow/stream_executor/platform/default/dso_loader.cc:44] Successfully opened dynamic library libcudart.so.10.1\n",
            "2022-03-31 13:47:39.563136: I tensorflow/core/common_runtime/gpu/gpu_device.cc:1180] Device interconnect StreamExecutor with strength 1 edge matrix:\n",
            "2022-03-31 13:47:39.563181: I tensorflow/core/common_runtime/gpu/gpu_device.cc:1186]      0 \n",
            "2022-03-31 13:47:39.563199: I tensorflow/core/common_runtime/gpu/gpu_device.cc:1199] 0:   N \n",
            "2022-03-31 13:47:39.563387: I tensorflow/stream_executor/cuda/cuda_gpu_executor.cc:983] successful NUMA node read from SysFS had negative value (-1), but there must be at least one NUMA node, so returning NUMA node zero\n",
            "2022-03-31 13:47:39.564139: I tensorflow/stream_executor/cuda/cuda_gpu_executor.cc:983] successful NUMA node read from SysFS had negative value (-1), but there must be at least one NUMA node, so returning NUMA node zero\n",
            "2022-03-31 13:47:39.564923: I tensorflow/core/common_runtime/gpu/gpu_device.cc:1325] Created TensorFlow device (/job:localhost/replica:0/task:0/device:GPU:0 with 10813 MB memory) -> physical GPU (device: 0, name: Tesla K80, pci bus id: 0000:00:04.0, compute capability: 3.7)\n",
            "WARNING:tensorflow:From /content/drive/MyDrive/SISR/Pyramids_deraining/pyramids-derain/code/training.py:108: The name tf.global_variables_initializer is deprecated. Please use tf.compat.v1.global_variables_initializer instead.\n",
            "\n",
            "WARNING:tensorflow:From /content/drive/MyDrive/SISR/Pyramids_deraining/pyramids-derain/code/training.py:109: The name tf.local_variables_initializer is deprecated. Please use tf.compat.v1.local_variables_initializer instead.\n",
            "\n",
            "WARNING:tensorflow:From /content/drive/MyDrive/SISR/Pyramids_deraining/pyramids-derain/code/training.py:110: The name tf.get_default_graph is deprecated. Please use tf.compat.v1.get_default_graph instead.\n",
            "\n",
            "loaded successfully\n",
            "check patch pair:\n",
            "<Figure size 640x480 with 2 Axes>\n",
            "2022-03-31 13:48:23.936070: I tensorflow/stream_executor/platform/default/dso_loader.cc:44] Successfully opened dynamic library libcudnn.so.7\n",
            "2022-03-31 13:48:24.477575: I tensorflow/stream_executor/platform/default/dso_loader.cc:44] Successfully opened dynamic library libcublas.so.10\n",
            "400 / 300000 iteraions, Training Loss  = 1.9613, running time = 216.6 s\n",
            "500 / 300000 iteraions, Training Loss  = 2.2378, running time = 184.2 s\n",
            "600 / 300000 iteraions, Training Loss  = 2.0283, running time = 188.8 s\n",
            "700 / 300000 iteraions, Training Loss  = 1.9202, running time = 186.7 s\n",
            "800 / 300000 iteraions, Training Loss  = 2.3981, running time = 184.6 s\n",
            "900 / 300000 iteraions, Training Loss  = 1.8952, running time = 184.5 s\n",
            "WARNING:tensorflow:From /tensorflow-1.15.2/python3.7/tensorflow_core/python/training/saver.py:963: remove_checkpoint (from tensorflow.python.training.checkpoint_management) is deprecated and will be removed in a future version.\n",
            "Instructions for updating:\n",
            "Use standard file APIs to delete files with this prefix.\n",
            "1000 / 300000 iteraions, Training Loss  = 1.4619, running time = 183.5 s\n",
            "1100 / 300000 iteraions, Training Loss  = 2.0225, running time = 187.9 s\n",
            "1200 / 300000 iteraions, Training Loss  = 2.1263, running time = 187.6 s\n",
            "1300 / 300000 iteraions, Training Loss  = 2.0709, running time = 193.6 s\n",
            "1400 / 300000 iteraions, Training Loss  = 2.0410, running time = 188.8 s\n",
            "1500 / 300000 iteraions, Training Loss  = 2.0601, running time = 187.4 s\n",
            "1600 / 300000 iteraions, Training Loss  = 2.0350, running time = 187.8 s\n",
            "1700 / 300000 iteraions, Training Loss  = 2.0567, running time = 189.0 s\n",
            "1800 / 300000 iteraions, Training Loss  = 1.9365, running time = 191.8 s\n",
            "1900 / 300000 iteraions, Training Loss  = 2.1943, running time = 187.8 s\n",
            "2000 / 300000 iteraions, Training Loss  = 1.9665, running time = 188.4 s\n",
            "2100 / 300000 iteraions, Training Loss  = 2.3119, running time = 189.4 s\n",
            "2200 / 300000 iteraions, Training Loss  = 2.2468, running time = 189.0 s\n",
            "2300 / 300000 iteraions, Training Loss  = 1.9407, running time = 185.4 s\n",
            "2400 / 300000 iteraions, Training Loss  = 1.6344, running time = 189.4 s\n"
          ]
        }
      ],
      "source": [
        "!python '/content/drive/MyDrive/SISR/Pyramids_deraining/pyramids-derain/code/training.py'"
      ]
    },
    {
      "cell_type": "code",
      "execution_count": null,
      "metadata": {
        "id": "oRiI28g_apZA"
      },
      "outputs": [],
      "source": [
        "!python '/content/drive/MyDrive/SISR/Pyramids_deraining/pyramids-derain/code/testing.py'"
      ]
    }
  ],
  "metadata": {
    "accelerator": "GPU",
    "colab": {
      "collapsed_sections": [],
      "name": "Copy of Untitled0.ipynb",
      "provenance": [],
      "include_colab_link": true
    },
    "kernelspec": {
      "display_name": "Python 3",
      "name": "python3"
    },
    "language_info": {
      "name": "python"
    }
  },
  "nbformat": 4,
  "nbformat_minor": 0
}