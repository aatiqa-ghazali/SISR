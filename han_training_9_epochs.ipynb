{
  "nbformat": 4,
  "nbformat_minor": 0,
  "metadata": {
    "colab": {
      "name": "Untitled0.ipynb",
      "provenance": [],
      "collapsed_sections": [],
      "machine_shape": "hm",
      "authorship_tag": "ABX9TyMxLUcdQXNEZAPG23XN0Leg",
      "include_colab_link": true
    },
    "kernelspec": {
      "name": "python3",
      "display_name": "Python 3"
    },
    "language_info": {
      "name": "python"
    },
    "accelerator": "GPU"
  },
  "cells": [
    {
      "cell_type": "markdown",
      "metadata": {
        "id": "view-in-github",
        "colab_type": "text"
      },
      "source": [
        "<a href=\"https://colab.research.google.com/github/aatiqa-ghazali/SISR/blob/main/han_training_9_epochs.ipynb\" target=\"_parent\"><img src=\"https://colab.research.google.com/assets/colab-badge.svg\" alt=\"Open In Colab\"/></a>"
      ]
    },
    {
      "cell_type": "code",
      "metadata": {
        "id": "JKGZ-HCAFSlT",
        "colab": {
          "base_uri": "https://localhost:8080/"
        },
        "outputId": "3eb252a1-dd9b-4c16-d448-1adbe2212437"
      },
      "source": [
        "#mounting_drive\n",
        "from google.colab import drive\n",
        "drive.mount('/content/drive', force_remount=True)"
      ],
      "execution_count": 1,
      "outputs": [
        {
          "output_type": "stream",
          "name": "stdout",
          "text": [
            "Mounted at /content/drive\n"
          ]
        }
      ]
    },
    {
      "cell_type": "markdown",
      "metadata": {
        "id": "0PPlwy5kFixO"
      },
      "source": [
        "**ECCV 2020 paper \"Single Image Super-Resolution via a Holistic Attention Network**\n",
        "\n"
      ]
    },
    {
      "cell_type": "code",
      "metadata": {
        "colab": {
          "base_uri": "https://localhost:8080/"
        },
        "id": "y1NDsW2VGJO3",
        "outputId": "d1513d05-5134-488e-d500-a131eafcf708"
      },
      "source": [
        "!pip install -q condacolab\n",
        "import condacolab\n",
        "condacolab.install()"
      ],
      "execution_count": 2,
      "outputs": [
        {
          "output_type": "stream",
          "name": "stdout",
          "text": [
            "⏬ Downloading https://github.com/jaimergp/miniforge/releases/latest/download/Mambaforge-colab-Linux-x86_64.sh...\n",
            "📦 Installing...\n",
            "📌 Adjusting configuration...\n",
            "🩹 Patching environment...\n",
            "⏲ Done in 0:00:24\n",
            "🔁 Restarting kernel...\n"
          ]
        }
      ]
    },
    {
      "cell_type": "code",
      "metadata": {
        "id": "c9h5UBVpXwNo",
        "colab": {
          "base_uri": "https://localhost:8080/"
        },
        "outputId": "5e015d9c-d78c-4f3b-ce45-27517e959b64"
      },
      "source": [
        "!pip uninstall torch -y\n",
        "!pip uninstall torch -y\n"
      ],
      "execution_count": 1,
      "outputs": [
        {
          "output_type": "stream",
          "name": "stdout",
          "text": [
            "\u001b[33mWARNING: Skipping torch as it is not installed.\u001b[0m\n",
            "\u001b[33mWARNING: Skipping torch as it is not installed.\u001b[0m\n"
          ]
        }
      ]
    },
    {
      "cell_type": "code",
      "metadata": {
        "colab": {
          "base_uri": "https://localhost:8080/"
        },
        "id": "ZNpj3K9HGPDk",
        "outputId": "ec73db95-4d8d-4f30-ccfb-7e31e003fdee"
      },
      "source": [
        "!pip install torch===0.4.1.post2 torchvision===0.2.1 \n"
      ],
      "execution_count": 2,
      "outputs": [
        {
          "output_type": "stream",
          "name": "stdout",
          "text": [
            "Collecting torch===0.4.1.post2\n",
            "  Downloading torch-0.4.1.post2-cp37-cp37m-manylinux1_x86_64.whl (519.5 MB)\n",
            "\u001b[K     |████████████████████████████████| 519.5 MB 21 kB/s \n",
            "\u001b[?25hCollecting torchvision===0.2.1\n",
            "  Downloading torchvision-0.2.1-py2.py3-none-any.whl (54 kB)\n",
            "\u001b[K     |████████████████████████████████| 54 kB 2.5 MB/s \n",
            "\u001b[?25hRequirement already satisfied: six in /usr/local/lib/python3.7/site-packages (from torchvision===0.2.1) (1.15.0)\n",
            "Collecting pillow>=4.1.1\n",
            "  Downloading Pillow-8.4.0-cp37-cp37m-manylinux_2_17_x86_64.manylinux2014_x86_64.whl (3.1 MB)\n",
            "\u001b[K     |████████████████████████████████| 3.1 MB 50.9 MB/s \n",
            "\u001b[?25hCollecting numpy\n",
            "  Downloading numpy-1.21.3-cp37-cp37m-manylinux_2_12_x86_64.manylinux2010_x86_64.whl (15.7 MB)\n",
            "\u001b[K     |████████████████████████████████| 15.7 MB 39.2 MB/s \n",
            "\u001b[?25hInstalling collected packages: torch, pillow, numpy, torchvision\n",
            "Successfully installed numpy-1.21.3 pillow-8.4.0 torch-0.4.1.post2 torchvision-0.2.1\n"
          ]
        }
      ]
    },
    {
      "cell_type": "code",
      "metadata": {
        "colab": {
          "base_uri": "https://localhost:8080/",
          "height": 1000
        },
        "id": "2F-SbgraGQUy",
        "outputId": "7c59a5dc-61f9-4235-f522-7b42d51ce84f"
      },
      "source": [
        "!pip install numpy\n",
        "!pip install imageio\n",
        "!pip install matplotlib\n",
        "!pip install tqdm\n",
        "!apt-get install python-opencv\n",
        "!python -m pip install -U scikit-image\n"
      ],
      "execution_count": null,
      "outputs": [
        {
          "output_type": "stream",
          "name": "stdout",
          "text": [
            "Requirement already satisfied: numpy in /usr/local/lib/python3.7/site-packages (1.21.3)\n",
            "Collecting imageio\n",
            "  Downloading imageio-2.10.1-py3-none-any.whl (3.3 MB)\n",
            "\u001b[K     |████████████████████████████████| 3.3 MB 4.2 MB/s \n",
            "\u001b[?25hRequirement already satisfied: numpy in /usr/local/lib/python3.7/site-packages (from imageio) (1.21.3)\n",
            "Requirement already satisfied: pillow>=8.3.2 in /usr/local/lib/python3.7/site-packages (from imageio) (8.4.0)\n",
            "Installing collected packages: imageio\n",
            "Successfully installed imageio-2.10.1\n",
            "Collecting matplotlib\n",
            "  Downloading matplotlib-3.4.3-cp37-cp37m-manylinux1_x86_64.whl (10.3 MB)\n",
            "\u001b[K     |████████████████████████████████| 10.3 MB 4.0 MB/s \n",
            "\u001b[?25hRequirement already satisfied: pillow>=6.2.0 in /usr/local/lib/python3.7/site-packages (from matplotlib) (8.4.0)\n",
            "Collecting cycler>=0.10\n",
            "  Downloading cycler-0.11.0-py3-none-any.whl (6.4 kB)\n",
            "Collecting python-dateutil>=2.7\n",
            "  Downloading python_dateutil-2.8.2-py2.py3-none-any.whl (247 kB)\n",
            "\u001b[K     |████████████████████████████████| 247 kB 75.1 MB/s \n",
            "\u001b[?25hRequirement already satisfied: numpy>=1.16 in /usr/local/lib/python3.7/site-packages (from matplotlib) (1.21.3)\n",
            "Collecting kiwisolver>=1.0.1\n",
            "  Downloading kiwisolver-1.3.2-cp37-cp37m-manylinux_2_5_x86_64.manylinux1_x86_64.whl (1.1 MB)\n",
            "\u001b[K     |████████████████████████████████| 1.1 MB 69.4 MB/s \n",
            "\u001b[?25hCollecting pyparsing>=2.2.1\n",
            "  Downloading pyparsing-3.0.4-py3-none-any.whl (96 kB)\n",
            "\u001b[K     |████████████████████████████████| 96 kB 8.5 MB/s \n",
            "\u001b[?25hRequirement already satisfied: six>=1.5 in /usr/local/lib/python3.7/site-packages (from python-dateutil>=2.7->matplotlib) (1.15.0)\n",
            "Installing collected packages: python-dateutil, pyparsing, kiwisolver, cycler, matplotlib\n",
            "Successfully installed cycler-0.11.0 kiwisolver-1.3.2 matplotlib-3.4.3 pyparsing-3.0.4 python-dateutil-2.8.2\n"
          ]
        },
        {
          "output_type": "display_data",
          "data": {
            "application/vnd.colab-display-data+json": {
              "pip_warning": {
                "packages": [
                  "dateutil",
                  "kiwisolver"
                ]
              }
            }
          },
          "metadata": {}
        },
        {
          "output_type": "stream",
          "name": "stdout",
          "text": [
            "Requirement already satisfied: tqdm in /usr/local/lib/python3.7/site-packages (4.59.0)\n",
            "Reading package lists... Done\n",
            "Building dependency tree       \n",
            "Reading state information... Done\n",
            "The following NEW packages will be installed:\n",
            "  python-opencv\n",
            "0 upgraded, 1 newly installed, 0 to remove and 37 not upgraded.\n",
            "Need to get 535 kB of archives.\n",
            "After this operation, 2,944 kB of additional disk space will be used.\n",
            "Get:1 http://archive.ubuntu.com/ubuntu bionic-updates/universe amd64 python-opencv amd64 3.2.0+dfsg-4ubuntu0.1 [535 kB]\n",
            "Fetched 535 kB in 2s (316 kB/s)\n",
            "Selecting previously unselected package python-opencv.\n",
            "(Reading database ... 155219 files and directories currently installed.)\n",
            "Preparing to unpack .../python-opencv_3.2.0+dfsg-4ubuntu0.1_amd64.deb ...\n",
            "Unpacking python-opencv (3.2.0+dfsg-4ubuntu0.1) ...\n",
            "Setting up python-opencv (3.2.0+dfsg-4ubuntu0.1) ...\n",
            "Collecting scikit-image\n",
            "  Downloading scikit_image-0.18.3-cp37-cp37m-manylinux_2_5_x86_64.manylinux1_x86_64.whl (29.2 MB)\n",
            "\u001b[K     |████████████████████████████████| 29.2 MB 160 kB/s \n",
            "\u001b[?25hCollecting scipy>=1.0.1\n",
            "  Downloading scipy-1.7.1-cp37-cp37m-manylinux_2_5_x86_64.manylinux1_x86_64.whl (28.5 MB)\n",
            "\u001b[K     |████████████████████████████████| 28.5 MB 97 kB/s \n",
            "\u001b[?25hCollecting tifffile>=2019.7.26\n",
            "  Downloading tifffile-2021.11.2-py3-none-any.whl (178 kB)\n",
            "\u001b[K     |████████████████████████████████| 178 kB 93.8 MB/s \n",
            "\u001b[?25hCollecting PyWavelets>=1.1.1\n",
            "  Downloading PyWavelets-1.1.1-cp37-cp37m-manylinux1_x86_64.whl (4.4 MB)\n",
            "\u001b[K     |██████▏                         | 849 kB 54.4 MB/s eta 0:00:01"
          ]
        }
      ]
    },
    {
      "cell_type": "code",
      "metadata": {
        "colab": {
          "base_uri": "https://localhost:8080/"
        },
        "id": "_TKe043eyGsd",
        "outputId": "f540ecc2-279a-4ead-f16f-e34906ed96f6"
      },
      "source": [
        "!conda install -c conda-forge scikit-image\n"
      ],
      "execution_count": 1,
      "outputs": [
        {
          "output_type": "stream",
          "name": "stdout",
          "text": [
            "Collecting package metadata (current_repodata.json): - \b\b\\ \b\b| \b\b/ \b\b- \b\b\\ \b\b| \b\b/ \b\b- \b\b\\ \b\b| \b\b/ \b\b- \b\b\\ \b\b| \b\b/ \b\b- \b\b\\ \b\b| \b\b/ \b\b- \b\b\\ \b\b| \b\b/ \b\b- \b\b\\ \b\b| \b\b/ \b\b- \b\b\\ \b\b| \b\b/ \b\b- \b\b\\ \b\b| \b\b/ \b\b- \b\b\\ \b\b| \b\b/ \b\b- \b\b\\ \b\b| \b\b/ \b\b- \b\b\\ \b\b| \b\b/ \b\b- \b\b\\ \b\b| \b\b/ \b\b- \b\b\\ \b\b| \b\b/ \b\b- \b\b\\ \b\b| \b\b/ \b\b- \b\b\\ \b\b| \b\b/ \b\b- \b\b\\ \b\b| \b\b/ \b\b- \b\b\\ \b\bdone\n",
            "Solving environment: / \b\b- \b\b\\ \b\b| \b\b/ \b\b- \b\b\\ \b\b| \b\b/ \b\b- \b\b\\ \b\b| \b\b/ \b\b- \b\b\\ \b\b| \b\b/ \b\b- \b\b\\ \b\b| \b\b/ \b\b- \b\b\\ \b\b| \b\b/ \b\b- \b\b\\ \b\b| \b\b/ \b\b- \b\b\\ \b\b| \b\b/ \b\b- \b\b\\ \b\b| \b\b/ \n",
            "Warning: 2 possible package resolutions (only showing differing packages):\n",
            "  - conda-forge/noarch::packaging-21.2-pyhd8ed1ab_1, conda-forge/noarch::pyparsing-2.4.7-pyhd8ed1ab_1\n",
            "  - conda-forge/noarch::packaging-21.0-pyhd8ed1ab_0, conda-forge/noarch::pyparsing-3.0.4-pyhd8ed1ab_0\b\bdone\n",
            "\n",
            "## Package Plan ##\n",
            "\n",
            "  environment location: /usr/local\n",
            "\n",
            "  added / updated specs:\n",
            "    - scikit-image\n",
            "\n",
            "\n",
            "The following packages will be downloaded:\n",
            "\n",
            "    package                    |            build\n",
            "    ---------------------------|-----------------\n",
            "    appdirs-1.4.4              |     pyh9f0ad1d_0          13 KB  conda-forge\n",
            "    ca-certificates-2021.10.8  |       ha878542_0         139 KB  conda-forge\n",
            "    certifi-2021.10.8          |   py37h89c1867_1         145 KB  conda-forge\n",
            "    cloudpickle-2.0.0          |     pyhd8ed1ab_0          24 KB  conda-forge\n",
            "    conda-4.10.3               |   py37h89c1867_2         3.1 MB  conda-forge\n",
            "    cycler-0.11.0              |     pyhd8ed1ab_0          10 KB  conda-forge\n",
            "    cytoolz-0.11.0             |   py37h5e8e339_3         403 KB  conda-forge\n",
            "    dask-core-2021.10.0        |     pyhd8ed1ab_0         775 KB  conda-forge\n",
            "    enum34-1.1.10              |   py37hc8dfbb8_2           4 KB  conda-forge\n",
            "    freetype-2.10.4            |       h0708190_1         890 KB  conda-forge\n",
            "    fsspec-2021.10.1           |     pyhd8ed1ab_0          86 KB  conda-forge\n",
            "    imagecodecs-lite-2019.12.3 |   py37h902c9e0_3         205 KB  conda-forge\n",
            "    imageio-2.9.0              |             py_0         3.1 MB  conda-forge\n",
            "    jpeg-9d                    |       h36c2ea0_0         264 KB  conda-forge\n",
            "    kiwisolver-1.3.1           |   py37h2531618_0          80 KB\n",
            "    libblas-3.9.0              |11_linux64_openblas          12 KB  conda-forge\n",
            "    libcblas-3.9.0             |11_linux64_openblas          11 KB  conda-forge\n",
            "    libgfortran-ng-11.2.0      |      h69a702a_11          19 KB  conda-forge\n",
            "    libgfortran5-11.2.0        |      h5c6108e_11         1.7 MB  conda-forge\n",
            "    liblapack-3.9.0            |11_linux64_openblas          11 KB  conda-forge\n",
            "    libopenblas-0.3.17         |pthreads_h8fe5266_1         9.2 MB  conda-forge\n",
            "    libpng-1.6.37              |       h21135ba_2         306 KB  conda-forge\n",
            "    libtiff-4.0.10             |    hc3755c2_1005         602 KB  conda-forge\n",
            "    locket-0.2.0               |             py_2           6 KB  conda-forge\n",
            "    matplotlib-base-3.3.4      |   py37h0c9df89_0         6.7 MB  conda-forge\n",
            "    networkx-2.6.3             |     pyhd8ed1ab_1         1.5 MB  conda-forge\n",
            "    numpy-1.20.3               |   py37h038b26d_1         5.7 MB  conda-forge\n",
            "    olefile-0.46               |     pyh9f0ad1d_1          32 KB  conda-forge\n",
            "    packaging-21.2             |     pyhd8ed1ab_1          35 KB  conda-forge\n",
            "    pandas-1.2.5               |   py37h219a48f_0        11.8 MB  conda-forge\n",
            "    partd-1.2.0                |     pyhd8ed1ab_0          18 KB  conda-forge\n",
            "    pathlib-1.0.1              |   py37h89c1867_4           4 KB  conda-forge\n",
            "    pillow-6.2.1               |   py37h6b7be26_0         637 KB  conda-forge\n",
            "    pooch-1.5.2                |     pyhd8ed1ab_0          45 KB  conda-forge\n",
            "    pyparsing-2.4.7            |     pyhd8ed1ab_1          60 KB  conda-forge\n",
            "    python-dateutil-2.8.2      |     pyhd8ed1ab_0         240 KB  conda-forge\n",
            "    python_abi-3.7             |          2_cp37m           4 KB  conda-forge\n",
            "    pytz-2021.3                |     pyhd8ed1ab_0         242 KB  conda-forge\n",
            "    pywavelets-1.1.1           |   py37h902c9e0_3         4.4 MB  conda-forge\n",
            "    pyyaml-5.4.1               |   py37h5e8e339_0         189 KB  conda-forge\n",
            "    scikit-image-0.18.1        |   py37hdc94413_0        11.5 MB  conda-forge\n",
            "    scipy-1.6.3                |   py37h29e03ee_0        20.5 MB  conda-forge\n",
            "    tifffile-2019.7.26.2       |           py37_0         218 KB  conda-forge\n",
            "    toolz-0.11.1               |             py_0          46 KB  conda-forge\n",
            "    tornado-6.1                |   py37h5e8e339_1         646 KB  conda-forge\n",
            "    ------------------------------------------------------------\n",
            "                                           Total:        85.4 MB\n",
            "\n",
            "The following NEW packages will be INSTALLED:\n",
            "\n",
            "  appdirs            conda-forge/noarch::appdirs-1.4.4-pyh9f0ad1d_0\n",
            "  cloudpickle        conda-forge/noarch::cloudpickle-2.0.0-pyhd8ed1ab_0\n",
            "  cycler             conda-forge/noarch::cycler-0.11.0-pyhd8ed1ab_0\n",
            "  cytoolz            conda-forge/linux-64::cytoolz-0.11.0-py37h5e8e339_3\n",
            "  dask-core          conda-forge/noarch::dask-core-2021.10.0-pyhd8ed1ab_0\n",
            "  enum34             conda-forge/linux-64::enum34-1.1.10-py37hc8dfbb8_2\n",
            "  freetype           conda-forge/linux-64::freetype-2.10.4-h0708190_1\n",
            "  fsspec             conda-forge/noarch::fsspec-2021.10.1-pyhd8ed1ab_0\n",
            "  imagecodecs-lite   conda-forge/linux-64::imagecodecs-lite-2019.12.3-py37h902c9e0_3\n",
            "  imageio            conda-forge/noarch::imageio-2.9.0-py_0\n",
            "  jpeg               conda-forge/linux-64::jpeg-9d-h36c2ea0_0\n",
            "  kiwisolver         pkgs/main/linux-64::kiwisolver-1.3.1-py37h2531618_0\n",
            "  libblas            conda-forge/linux-64::libblas-3.9.0-11_linux64_openblas\n",
            "  libcblas           conda-forge/linux-64::libcblas-3.9.0-11_linux64_openblas\n",
            "  libgfortran-ng     conda-forge/linux-64::libgfortran-ng-11.2.0-h69a702a_11\n",
            "  libgfortran5       conda-forge/linux-64::libgfortran5-11.2.0-h5c6108e_11\n",
            "  liblapack          conda-forge/linux-64::liblapack-3.9.0-11_linux64_openblas\n",
            "  libopenblas        conda-forge/linux-64::libopenblas-0.3.17-pthreads_h8fe5266_1\n",
            "  libpng             conda-forge/linux-64::libpng-1.6.37-h21135ba_2\n",
            "  libtiff            conda-forge/linux-64::libtiff-4.0.10-hc3755c2_1005\n",
            "  locket             conda-forge/noarch::locket-0.2.0-py_2\n",
            "  matplotlib-base    conda-forge/linux-64::matplotlib-base-3.3.4-py37h0c9df89_0\n",
            "  networkx           conda-forge/noarch::networkx-2.6.3-pyhd8ed1ab_1\n",
            "  numpy              conda-forge/linux-64::numpy-1.20.3-py37h038b26d_1\n",
            "  olefile            conda-forge/noarch::olefile-0.46-pyh9f0ad1d_1\n",
            "  packaging          conda-forge/noarch::packaging-21.2-pyhd8ed1ab_1\n",
            "  pandas             conda-forge/linux-64::pandas-1.2.5-py37h219a48f_0\n",
            "  partd              conda-forge/noarch::partd-1.2.0-pyhd8ed1ab_0\n",
            "  pathlib            conda-forge/linux-64::pathlib-1.0.1-py37h89c1867_4\n",
            "  pillow             conda-forge/linux-64::pillow-6.2.1-py37h6b7be26_0\n",
            "  pooch              conda-forge/noarch::pooch-1.5.2-pyhd8ed1ab_0\n",
            "  pyparsing          conda-forge/noarch::pyparsing-2.4.7-pyhd8ed1ab_1\n",
            "  python-dateutil    conda-forge/noarch::python-dateutil-2.8.2-pyhd8ed1ab_0\n",
            "  pytz               conda-forge/noarch::pytz-2021.3-pyhd8ed1ab_0\n",
            "  pywavelets         conda-forge/linux-64::pywavelets-1.1.1-py37h902c9e0_3\n",
            "  pyyaml             conda-forge/linux-64::pyyaml-5.4.1-py37h5e8e339_0\n",
            "  scikit-image       conda-forge/linux-64::scikit-image-0.18.1-py37hdc94413_0\n",
            "  scipy              conda-forge/linux-64::scipy-1.6.3-py37h29e03ee_0\n",
            "  tifffile           conda-forge/linux-64::tifffile-2019.7.26.2-py37_0\n",
            "  toolz              conda-forge/noarch::toolz-0.11.1-py_0\n",
            "  tornado            conda-forge/linux-64::tornado-6.1-py37h5e8e339_1\n",
            "\n",
            "The following packages will be UPDATED:\n",
            "\n",
            "  ca-certificates                      2020.12.5-ha878542_0 --> 2021.10.8-ha878542_0\n",
            "  certifi                          2020.12.5-py37h89c1867_1 --> 2021.10.8-py37h89c1867_1\n",
            "  conda                                4.9.2-py37h89c1867_0 --> 4.10.3-py37h89c1867_2\n",
            "  python_abi                                    3.7-1_cp37m --> 3.7-2_cp37m\n",
            "\n",
            "\n",
            "\n",
            "Downloading and Extracting Packages\n",
            "tornado-6.1          | 646 KB    | : 100% 1.0/1 [00:00<00:00,  4.89it/s]\n",
            "freetype-2.10.4      | 890 KB    | : 100% 1.0/1 [00:00<00:00,  6.47it/s]\n",
            "matplotlib-base-3.3. | 6.7 MB    | : 100% 1.0/1 [00:01<00:00,  1.06s/it]\n",
            "olefile-0.46         | 32 KB     | : 100% 1.0/1 [00:00<00:00, 27.40it/s]\n",
            "pooch-1.5.2          | 45 KB     | : 100% 1.0/1 [00:00<00:00, 27.31it/s]\n",
            "liblapack-3.9.0      | 11 KB     | : 100% 1.0/1 [00:00<00:00, 33.72it/s]\n",
            "cloudpickle-2.0.0    | 24 KB     | : 100% 1.0/1 [00:00<00:00, 30.27it/s]\n",
            "cytoolz-0.11.0       | 403 KB    | : 100% 1.0/1 [00:00<00:00, 10.94it/s]\n",
            "jpeg-9d              | 264 KB    | : 100% 1.0/1 [00:00<00:00, 11.50it/s]\n",
            "certifi-2021.10.8    | 145 KB    | : 100% 1.0/1 [00:00<00:00, 23.96it/s]\n",
            "scipy-1.6.3          | 20.5 MB   | : 100% 1.0/1 [00:02<00:00,  2.94s/it]\n",
            "kiwisolver-1.3.1     | 80 KB     | : 100% 1.0/1 [00:00<00:00, 13.27it/s]\n",
            "fsspec-2021.10.1     | 86 KB     | : 100% 1.0/1 [00:00<00:00, 16.31it/s]\n",
            "cycler-0.11.0        | 10 KB     | : 100% 1.0/1 [00:00<00:00, 41.51it/s]\n",
            "pillow-6.2.1         | 637 KB    | : 100% 1.0/1 [00:00<00:00,  7.00it/s]\n",
            "toolz-0.11.1         | 46 KB     | : 100% 1.0/1 [00:00<00:00, 27.18it/s]\n",
            "pyyaml-5.4.1         | 189 KB    | : 100% 1.0/1 [00:00<00:00, 17.65it/s]\n",
            "pandas-1.2.5         | 11.8 MB   | : 100% 1.0/1 [00:02<00:00,  2.11s/it]               \n",
            "libcblas-3.9.0       | 11 KB     | : 100% 1.0/1 [00:00<00:00, 34.09it/s]\n",
            "libgfortran-ng-11.2. | 19 KB     | : 100% 1.0/1 [00:00<00:00, 35.96it/s]\n",
            "libpng-1.6.37        | 306 KB    | : 100% 1.0/1 [00:00<00:00, 12.56it/s]\n",
            "python_abi-3.7       | 4 KB      | : 100% 1.0/1 [00:00<00:00, 34.42it/s]\n",
            "packaging-21.2       | 35 KB     | : 100% 1.0/1 [00:00<00:00, 30.19it/s]\n",
            "dask-core-2021.10.0  | 775 KB    | : 100% 1.0/1 [00:00<00:00,  5.14it/s]\n",
            "locket-0.2.0         | 6 KB      | : 100% 1.0/1 [00:00<00:00, 37.51it/s]\n",
            "numpy-1.20.3         | 5.7 MB    | : 100% 1.0/1 [00:01<00:00,  1.02s/it]\n",
            "libblas-3.9.0        | 12 KB     | : 100% 1.0/1 [00:00<00:00, 31.06it/s]\n",
            "libtiff-4.0.10       | 602 KB    | : 100% 1.0/1 [00:00<00:00,  8.93it/s]\n",
            "libgfortran5-11.2.0  | 1.7 MB    | : 100% 1.0/1 [00:00<00:00,  3.58it/s]\n",
            "imageio-2.9.0        | 3.1 MB    | : 100% 1.0/1 [00:00<00:00,  2.99it/s]\n",
            "networkx-2.6.3       | 1.5 MB    | : 100% 1.0/1 [00:00<00:00,  3.35it/s]\n",
            "enum34-1.1.10        | 4 KB      | : 100% 1.0/1 [00:00<00:00, 41.50it/s]\n",
            "conda-4.10.3         | 3.1 MB    | : 100% 1.0/1 [00:00<00:00,  1.95it/s]\n",
            "pywavelets-1.1.1     | 4.4 MB    | : 100% 1.0/1 [00:00<00:00,  1.87it/s]\n",
            "tifffile-2019.7.26.2 | 218 KB    | : 100% 1.0/1 [00:00<00:00,  4.05it/s]\n",
            "pyparsing-2.4.7      | 60 KB     | : 100% 1.0/1 [00:00<00:00, 26.92it/s]\n",
            "ca-certificates-2021 | 139 KB    | : 100% 1.0/1 [00:00<00:00, 22.72it/s]\n",
            "pathlib-1.0.1        | 4 KB      | : 100% 1.0/1 [00:00<00:00, 33.49it/s]\n",
            "pytz-2021.3          | 242 KB    | : 100% 1.0/1 [00:00<00:00, 10.33it/s]\n",
            "python-dateutil-2.8. | 240 KB    | : 100% 1.0/1 [00:00<00:00, 13.38it/s]\n",
            "appdirs-1.4.4        | 13 KB     | : 100% 1.0/1 [00:00<00:00, 37.78it/s]\n",
            "imagecodecs-lite-201 | 205 KB    | : 100% 1.0/1 [00:00<00:00, 18.62it/s]\n",
            "libopenblas-0.3.17   | 9.2 MB    | : 100% 1.0/1 [00:01<00:00,  1.39s/it]\n",
            "partd-1.2.0          | 18 KB     | : 100% 1.0/1 [00:00<00:00, 34.70it/s]\n",
            "scikit-image-0.18.1  | 11.5 MB   | : 100% 1.0/1 [00:01<00:00,  1.54s/it]               \n",
            "Preparing transaction: \\ \b\b| \b\b/ \b\bdone\n",
            "Verifying transaction: \\ \b\b| \b\b/ \b\b- \b\b\\ \b\b| \b\b/ \b\b- \b\b\\ \b\b| \b\b/ \b\b- \b\bdone\n",
            "Executing transaction: | \b\b/ \b\b- \b\b\\ \b\b| \b\b/ \b\b- \b\b\\ \b\b| \b\b/ \b\b- \b\b\\ \b\b| \b\b/ \b\b- \b\b\\ \b\b| \b\b/ \b\b- \b\b\\ \b\b| \b\b/ \b\b- \b\b\\ \b\b| \b\b/ \b\b- \b\b\\ \b\b| \b\b/ \b\b- \b\b\\ \b\bdone\n"
          ]
        }
      ]
    },
    {
      "cell_type": "code",
      "metadata": {
        "id": "18rTrNAykh4w"
      },
      "source": [
        "!cd '/content/drive/MyDrive/SISR/HAN/src'"
      ],
      "execution_count": 2,
      "outputs": []
    },
    {
      "cell_type": "markdown",
      "metadata": {
        "id": "z9hXl05I5BVq"
      },
      "source": [
        "#psnnr nan issue solved by adding 'x4 infront og 'hr' in benchmarks.py\n",
        "psnr not updating resolved by adding test data in folders + fixing some links in div2k.py and replacing _LR twith x2 in srdata.py"
      ]
    },
    {
      "cell_type": "code",
      "metadata": {
        "colab": {
          "base_uri": "https://localhost:8080/"
        },
        "id": "XKzEr0d3GgL8",
        "outputId": "49dbd030-3f3e-47c0-ae65-ba1aa9598cd2"
      },
      "source": [
        " !sh '/content/drive/MyDrive/SISR/HAN/src/demo.sh'"
      ],
      "execution_count": 9,
      "outputs": [
        {
          "output_type": "stream",
          "name": "stdout",
          "text": [
            "Making model...\n",
            "Load the model from /content/drive/MyDrive/SISR/HAN/experiment/model/RCAN_BIX2.pt\n",
            "Preparing loss function:\n",
            "1.000 * MSE\n",
            "[Epoch 0]\tLearning rate: 1.00e-4\n",
            "[1600/15300]\t[MSE: 52.1969]\t96.1+583.0s\n",
            "[3200/15300]\t[MSE: 46.8790]\t95.8+61.9s\n",
            "[4800/15300]\t[MSE: 45.3722]\t95.7+8.2s\n",
            "[6400/15300]\t[MSE: 43.8585]\t95.7+1.4s\n",
            "[8000/15300]\t[MSE: 43.0552]\t95.7+0.0s\n",
            "[9600/15300]\t[MSE: 42.2870]\t95.7+0.0s\n",
            "[11200/15300]\t[MSE: 41.8123]\t95.6+0.0s\n",
            "[12800/15300]\t[MSE: 41.9089]\t95.7+0.0s\n",
            "[14400/15300]\t[MSE: 41.6703]\t95.7+0.0s\n",
            "\n",
            "Evaluation:\n",
            "100%|███████████████████████████████████████████| 20/20 [00:32<00:00,  1.63s/it]\n",
            "[Set20 x2]\tPSNR: 14.989 (Best: 14.989 @epoch 0)\n",
            "Forward: 32.80s\n",
            "\n",
            "Saving...\n",
            "Total: 33.98s\n",
            "\n",
            "[Epoch 1]\tLearning rate: 1.00e-4\n",
            "[1600/15300]\t[MSE: 36.6997]\t95.8+0.3s\n",
            "[3200/15300]\t[MSE: 38.9494]\t95.7+0.0s\n",
            "[4800/15300]\t[MSE: 39.0223]\t95.8+0.0s\n",
            "[6400/15300]\t[MSE: 38.0913]\t95.7+0.0s\n",
            "[8000/15300]\t[MSE: 38.5213]\t95.8+0.0s\n",
            "[9600/15300]\t[MSE: 38.3430]\t95.7+0.0s\n",
            "[11200/15300]\t[MSE: 39.0130]\t95.7+0.0s\n",
            "[12800/15300]\t[MSE: 38.9175]\t95.8+0.0s\n",
            "[14400/15300]\t[MSE: 39.0631]\t95.7+0.0s\n",
            "\n",
            "Evaluation:\n",
            "100%|███████████████████████████████████████████| 20/20 [00:13<00:00,  1.47it/s]\n",
            "[Set20 x2]\tPSNR: 14.987 (Best: 14.989 @epoch 0)\n",
            "Forward: 13.74s\n",
            "\n",
            "Saving...\n",
            "Total: 14.82s\n",
            "\n",
            "[Epoch 2]\tLearning rate: 1.00e-4\n",
            "[1600/15300]\t[MSE: 40.0093]\t95.8+0.3s\n",
            "[3200/15300]\t[MSE: 39.7024]\t95.8+0.0s\n",
            "[4800/15300]\t[MSE: 40.4082]\t95.8+0.0s\n",
            "[6400/15300]\t[MSE: 39.9140]\t95.8+0.0s\n",
            "[8000/15300]\t[MSE: 39.5801]\t95.7+0.0s\n",
            "[9600/15300]\t[MSE: 39.2885]\t95.7+0.0s\n",
            "[11200/15300]\t[MSE: 39.1730]\t95.8+0.0s\n",
            "[12800/15300]\t[MSE: 39.6406]\t95.8+0.0s\n",
            "[14400/15300]\t[MSE: 39.3290]\t95.7+0.0s\n",
            "\n",
            "Evaluation:\n",
            "100%|███████████████████████████████████████████| 20/20 [00:13<00:00,  1.46it/s]\n",
            "[Set20 x2]\tPSNR: 14.984 (Best: 14.989 @epoch 0)\n",
            "Forward: 13.82s\n",
            "\n",
            "Saving...\n",
            "Total: 14.90s\n",
            "\n",
            "[Epoch 3]\tLearning rate: 1.00e-4\n",
            "[1600/15300]\t[MSE: 40.8579]\t95.8+0.3s\n",
            "[3200/15300]\t[MSE: 38.5976]\t95.8+0.0s\n",
            "[4800/15300]\t[MSE: 38.1105]\t95.8+0.0s\n",
            "[6400/15300]\t[MSE: 38.9669]\t95.8+0.0s\n",
            "[8000/15300]\t[MSE: 39.3550]\t95.8+0.0s\n",
            "[9600/15300]\t[MSE: 39.2722]\t95.8+0.0s\n",
            "[11200/15300]\t[MSE: 39.7862]\t95.7+0.0s\n",
            "[12800/15300]\t[MSE: 39.6274]\t95.8+0.0s\n",
            "[14400/15300]\t[MSE: 39.7623]\t95.8+0.0s\n",
            "\n",
            "Evaluation:\n",
            "100%|███████████████████████████████████████████| 20/20 [00:13<00:00,  1.46it/s]\n",
            "[Set20 x2]\tPSNR: 14.990 (Best: 14.990 @epoch 3)\n",
            "Forward: 13.82s\n",
            "\n",
            "Saving...\n",
            "Total: 15.03s\n",
            "\n",
            "[Epoch 4]\tLearning rate: 1.00e-4\n",
            "[1600/15300]\t[MSE: 39.4285]\t95.8+0.3s\n",
            "[3200/15300]\t[MSE: 38.9510]\t95.8+0.0s\n",
            "[4800/15300]\t[MSE: 38.1292]\t95.8+0.0s\n",
            "[6400/15300]\t[MSE: 39.4481]\t95.7+0.0s\n",
            "[8000/15300]\t[MSE: 39.1207]\t95.8+0.0s\n",
            "[9600/15300]\t[MSE: 38.8156]\t95.8+0.0s\n",
            "[11200/15300]\t[MSE: 39.3482]\t95.8+0.0s\n",
            "[12800/15300]\t[MSE: 39.6549]\t95.8+0.0s\n",
            "[14400/15300]\t[MSE: 39.5698]\t95.7+0.0s\n",
            "\n",
            "Evaluation:\n",
            "100%|███████████████████████████████████████████| 20/20 [00:13<00:00,  1.48it/s]\n",
            "[Set20 x2]\tPSNR: 14.985 (Best: 14.990 @epoch 3)\n",
            "Forward: 13.68s\n",
            "\n",
            "Saving...\n",
            "Total: 14.77s\n",
            "\n",
            "[Epoch 5]\tLearning rate: 1.00e-4\n",
            "[1600/15300]\t[MSE: 36.5228]\t95.7+0.3s\n",
            "[3200/15300]\t[MSE: 39.2530]\t95.7+0.0s\n",
            "[4800/15300]\t[MSE: 39.6662]\t95.8+0.0s\n",
            "[6400/15300]\t[MSE: 39.5015]\t95.8+0.0s\n",
            "[8000/15300]\t[MSE: 39.2339]\t95.7+0.0s\n",
            "[9600/15300]\t[MSE: 39.0173]\t95.7+0.0s\n",
            "[11200/15300]\t[MSE: 39.1875]\t95.7+0.0s\n",
            "[12800/15300]\t[MSE: 39.4064]\t95.8+0.0s\n",
            "[14400/15300]\t[MSE: 39.4878]\t95.7+0.0s\n",
            "\n",
            "Evaluation:\n",
            "100%|███████████████████████████████████████████| 20/20 [00:13<00:00,  1.46it/s]\n",
            "[Set20 x2]\tPSNR: 14.986 (Best: 14.990 @epoch 3)\n",
            "Forward: 13.80s\n",
            "\n",
            "Saving...\n",
            "Total: 14.89s\n",
            "\n",
            "[Epoch 6]\tLearning rate: 1.00e-4\n",
            "[1600/15300]\t[MSE: 41.2349]\t95.9+0.3s\n",
            "[3200/15300]\t[MSE: 39.6236]\t95.7+0.0s\n",
            "[4800/15300]\t[MSE: 40.0723]\t95.7+0.0s\n",
            "[6400/15300]\t[MSE: 40.2443]\t95.8+0.0s\n",
            "[8000/15300]\t[MSE: 39.7070]\t95.7+0.0s\n",
            "[9600/15300]\t[MSE: 39.9993]\t95.8+0.0s\n",
            "[11200/15300]\t[MSE: 40.1256]\t95.8+0.0s\n",
            "[12800/15300]\t[MSE: 39.8865]\t95.8+0.0s\n",
            "[14400/15300]\t[MSE: 40.0130]\t95.8+0.0s\n",
            "\n",
            "Evaluation:\n",
            "100%|███████████████████████████████████████████| 20/20 [00:13<00:00,  1.44it/s]\n",
            "[Set20 x2]\tPSNR: 14.987 (Best: 14.990 @epoch 3)\n",
            "Forward: 14.01s\n",
            "\n",
            "Saving...\n",
            "Total: 15.15s\n",
            "\n",
            "[Epoch 7]\tLearning rate: 1.00e-4\n",
            "[1600/15300]\t[MSE: 40.0408]\t95.7+0.3s\n",
            "[3200/15300]\t[MSE: 40.6497]\t95.8+0.0s\n",
            "[4800/15300]\t[MSE: 41.1356]\t95.8+0.0s\n",
            "[6400/15300]\t[MSE: 39.9659]\t95.8+0.0s\n",
            "[8000/15300]\t[MSE: 40.1445]\t95.8+0.0s\n",
            "[9600/15300]\t[MSE: 40.6387]\t95.8+0.0s\n",
            "[11200/15300]\t[MSE: 40.6475]\t95.8+0.0s\n",
            "[12800/15300]\t[MSE: 40.0742]\t95.8+0.0s\n",
            "[14400/15300]\t[MSE: 40.0419]\t95.7+0.0s\n",
            "\n",
            "Evaluation:\n",
            "100%|███████████████████████████████████████████| 20/20 [00:13<00:00,  1.48it/s]\n",
            "[Set20 x2]\tPSNR: 14.987 (Best: 14.990 @epoch 3)\n",
            "Forward: 13.70s\n",
            "\n",
            "Saving...\n",
            "Total: 14.79s\n",
            "\n",
            "[Epoch 8]\tLearning rate: 1.00e-4\n",
            "[1600/15300]\t[MSE: 39.5754]\t95.8+0.3s\n",
            "[3200/15300]\t[MSE: 39.3495]\t95.7+0.0s\n",
            "[4800/15300]\t[MSE: 40.4425]\t95.8+0.0s\n",
            "[6400/15300]\t[MSE: 39.7587]\t95.8+0.0s\n",
            "[8000/15300]\t[MSE: 39.9106]\t95.7+0.0s\n",
            "[9600/15300]\t[MSE: 38.8942]\t95.7+0.0s\n",
            "[11200/15300]\t[MSE: 39.2571]\t95.8+0.0s\n",
            "[12800/15300]\t[MSE: 39.3987]\t95.7+0.0s\n",
            "[14400/15300]\t[MSE: 39.6699]\t95.7+0.0s\n",
            "\n",
            "Evaluation:\n",
            "100%|███████████████████████████████████████████| 20/20 [00:13<00:00,  1.47it/s]\n",
            "[Set20 x2]\tPSNR: 14.988 (Best: 14.990 @epoch 3)\n",
            "Forward: 13.73s\n",
            "\n",
            "Saving...\n",
            "Total: 14.81s\n",
            "\n",
            "[Epoch 9]\tLearning rate: 1.00e-4\n",
            "[1600/15300]\t[MSE: 44.3063]\t95.7+0.3s\n",
            "[3200/15300]\t[MSE: 43.1383]\t95.7+0.0s\n",
            "[4800/15300]\t[MSE: 43.2253]\t95.7+0.0s\n",
            "[6400/15300]\t[MSE: 42.4935]\t95.7+0.0s\n",
            "[8000/15300]\t[MSE: 42.3148]\t95.7+0.0s\n",
            "[9600/15300]\t[MSE: 42.4595]\t95.7+0.0s\n",
            "[11200/15300]\t[MSE: 41.9093]\t95.7+0.0s\n",
            "[12800/15300]\t[MSE: 41.2703]\t95.7+0.0s\n",
            "[14400/15300]\t[MSE: 41.1023]\t95.8+0.0s\n",
            "\n",
            "Evaluation:\n",
            "100%|███████████████████████████████████████████| 20/20 [00:13<00:00,  1.46it/s]\n",
            "[Set20 x2]\tPSNR: 14.987 (Best: 14.990 @epoch 3)\n",
            "Forward: 13.79s\n",
            "\n",
            "Saving...\n",
            "Total: 14.88s\n",
            "\n",
            "[Epoch 10]\tLearning rate: 1.00e-4\n",
            "Process Process-101:\n",
            "Traceback (most recent call last):\n",
            "  File \"/usr/local/lib/python3.7/multiprocessing/process.py\", line 297, in _bootstrap\n",
            "    self.run()\n",
            "  File \"/usr/local/lib/python3.7/multiprocessing/process.py\", line 99, in run\n",
            "    self._target(*self._args, **self._kwargs)\n",
            "  File \"/usr/local/lib/python3.7/site-packages/torch/utils/data/dataloader.py\", line 96, in _worker_loop\n",
            "    r = index_queue.get(timeout=MANAGER_STATUS_CHECK_INTERVAL)\n",
            "  File \"/usr/local/lib/python3.7/multiprocessing/queues.py\", line 104, in get\n",
            "    if not self._poll(timeout):\n",
            "  File \"/usr/local/lib/python3.7/multiprocessing/connection.py\", line 257, in poll\n",
            "    return self._poll(timeout)\n",
            "  File \"/usr/local/lib/python3.7/multiprocessing/connection.py\", line 414, in _poll\n",
            "    r = wait([self], timeout)\n",
            "  File \"/usr/local/lib/python3.7/multiprocessing/connection.py\", line 921, in wait\n",
            "    ready = selector.select(timeout)\n",
            "  File \"/usr/local/lib/python3.7/selectors.py\", line 415, in select\n",
            "    fd_event_list = self._selector.poll(timeout)\n",
            "KeyboardInterrupt\n",
            "Exception ignored in: <function _DataLoaderIter.__del__ at 0x7f6daeb70170>\n",
            "Traceback (most recent call last):\n",
            "  File \"/usr/local/lib/python3.7/site-packages/torch/utils/data/dataloader.py\", line 397, in __del__\n",
            "    def __del__(self):\n",
            "  File \"/usr/local/lib/python3.7/site-packages/torch/utils/data/dataloader.py\", line 227, in handler\n",
            "    _error_if_any_worker_fails()\n",
            "RuntimeError: DataLoader worker (pid 4306) exited unexpectedly with exit code 1. Details are lost due to multiprocessing. Rerunning with num_workers=0 may give better error trace.\n",
            "Traceback (most recent call last):\n",
            "  File \"/content/drive/MyDrive/SISR/HAN/src/main.py\", line 33, in <module>\n",
            "    main()\n",
            "  File \"/content/drive/MyDrive/SISR/HAN/src/main.py\", line 27, in main\n",
            "    t.train()\n",
            "  File \"/content/drive/.shortcut-targets-by-id/1BKwPP2ZywCKYF3dJLVL_sxW9waxXkACw/SISR/HAN/src/trainer.py\", line 54, in train\n",
            "    loss.backward()\n",
            "  File \"/usr/local/lib/python3.7/site-packages/torch/tensor.py\", line 93, in backward\n",
            "    torch.autograd.backward(self, gradient, retain_graph, create_graph)\n",
            "  File \"/usr/local/lib/python3.7/site-packages/torch/autograd/__init__.py\", line 90, in backward\n",
            "    allow_unreachable=True)  # allow_unreachable flag\n",
            "KeyboardInterrupt\n",
            "^C\n"
          ]
        }
      ]
    }
  ]
}