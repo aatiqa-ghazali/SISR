{
  "cells": [
    {
      "cell_type": "markdown",
      "metadata": {
        "id": "view-in-github",
        "colab_type": "text"
      },
      "source": [
        "<a href=\"https://colab.research.google.com/github/aatiqa-ghazali/SISR/blob/main/Copy_of_Untitled0-5000-LAM.ipynb\" target=\"_parent\"><img src=\"https://colab.research.google.com/assets/colab-badge.svg\" alt=\"Open In Colab\"/></a>"
      ]
    },
    {
      "cell_type": "code",
      "execution_count": 1,
      "metadata": {
        "colab": {
          "base_uri": "https://localhost:8080/"
        },
        "id": "F2V1gxJi7r9M",
        "outputId": "5e2a6fbb-237a-4807-a4c5-315164ccfa24"
      },
      "outputs": [
        {
          "output_type": "stream",
          "name": "stdout",
          "text": [
            "Mounted at /content/drive\n"
          ]
        }
      ],
      "source": [
        "#mounting_drive\n",
        "from google.colab import drive\n",
        "drive.mount('/content/drive', force_remount=True)"
      ]
    },
    {
      "cell_type": "code",
      "execution_count": 2,
      "metadata": {
        "colab": {
          "base_uri": "https://localhost:8080/"
        },
        "id": "Dsnzpsz78kLx",
        "outputId": "30ed3a66-cb9b-4e0d-9094-b0029553be04"
      },
      "outputs": [
        {
          "output_type": "stream",
          "name": "stdout",
          "text": [
            "Requirement already satisfied: numpy in /usr/local/lib/python3.7/dist-packages (1.21.5)\n",
            "Requirement already satisfied: imageio in /usr/local/lib/python3.7/dist-packages (2.4.1)\n",
            "Requirement already satisfied: numpy in /usr/local/lib/python3.7/dist-packages (from imageio) (1.21.5)\n",
            "Requirement already satisfied: pillow in /usr/local/lib/python3.7/dist-packages (from imageio) (7.1.2)\n",
            "Requirement already satisfied: matplotlib in /usr/local/lib/python3.7/dist-packages (3.2.2)\n",
            "Requirement already satisfied: python-dateutil>=2.1 in /usr/local/lib/python3.7/dist-packages (from matplotlib) (2.8.2)\n",
            "Requirement already satisfied: kiwisolver>=1.0.1 in /usr/local/lib/python3.7/dist-packages (from matplotlib) (1.4.2)\n",
            "Requirement already satisfied: cycler>=0.10 in /usr/local/lib/python3.7/dist-packages (from matplotlib) (0.11.0)\n",
            "Requirement already satisfied: pyparsing!=2.0.4,!=2.1.2,!=2.1.6,>=2.0.1 in /usr/local/lib/python3.7/dist-packages (from matplotlib) (3.0.8)\n",
            "Requirement already satisfied: numpy>=1.11 in /usr/local/lib/python3.7/dist-packages (from matplotlib) (1.21.5)\n",
            "Requirement already satisfied: typing-extensions in /usr/local/lib/python3.7/dist-packages (from kiwisolver>=1.0.1->matplotlib) (4.1.1)\n",
            "Requirement already satisfied: six>=1.5 in /usr/local/lib/python3.7/dist-packages (from python-dateutil>=2.1->matplotlib) (1.15.0)\n",
            "Requirement already satisfied: tqdm in /usr/local/lib/python3.7/dist-packages (4.64.0)\n",
            "Reading package lists... Done\n",
            "Building dependency tree       \n",
            "Reading state information... Done\n",
            "The following NEW packages will be installed:\n",
            "  python-opencv\n",
            "0 upgraded, 1 newly installed, 0 to remove and 39 not upgraded.\n",
            "Need to get 535 kB of archives.\n",
            "After this operation, 2,944 kB of additional disk space will be used.\n",
            "Get:1 http://archive.ubuntu.com/ubuntu bionic-updates/universe amd64 python-opencv amd64 3.2.0+dfsg-4ubuntu0.1 [535 kB]\n",
            "Fetched 535 kB in 2s (306 kB/s)\n",
            "Selecting previously unselected package python-opencv.\n",
            "(Reading database ... 155455 files and directories currently installed.)\n",
            "Preparing to unpack .../python-opencv_3.2.0+dfsg-4ubuntu0.1_amd64.deb ...\n",
            "Unpacking python-opencv (3.2.0+dfsg-4ubuntu0.1) ...\n",
            "Setting up python-opencv (3.2.0+dfsg-4ubuntu0.1) ...\n",
            "Requirement already satisfied: scikit-image in /usr/local/lib/python3.7/dist-packages (0.18.3)\n",
            "Collecting scikit-image\n",
            "  Downloading scikit_image-0.19.2-cp37-cp37m-manylinux_2_12_x86_64.manylinux2010_x86_64.whl (13.5 MB)\n",
            "\u001b[K     |████████████████████████████████| 13.5 MB 4.3 MB/s \n",
            "\u001b[?25hRequirement already satisfied: scipy>=1.4.1 in /usr/local/lib/python3.7/dist-packages (from scikit-image) (1.4.1)\n",
            "Requirement already satisfied: numpy>=1.17.0 in /usr/local/lib/python3.7/dist-packages (from scikit-image) (1.21.5)\n",
            "Requirement already satisfied: imageio>=2.4.1 in /usr/local/lib/python3.7/dist-packages (from scikit-image) (2.4.1)\n",
            "Requirement already satisfied: pillow!=7.1.0,!=7.1.1,!=8.3.0,>=6.1.0 in /usr/local/lib/python3.7/dist-packages (from scikit-image) (7.1.2)\n",
            "Requirement already satisfied: tifffile>=2019.7.26 in /usr/local/lib/python3.7/dist-packages (from scikit-image) (2021.11.2)\n",
            "Requirement already satisfied: networkx>=2.2 in /usr/local/lib/python3.7/dist-packages (from scikit-image) (2.6.3)\n",
            "Requirement already satisfied: PyWavelets>=1.1.1 in /usr/local/lib/python3.7/dist-packages (from scikit-image) (1.3.0)\n",
            "Requirement already satisfied: packaging>=20.0 in /usr/local/lib/python3.7/dist-packages (from scikit-image) (21.3)\n",
            "Requirement already satisfied: pyparsing!=3.0.5,>=2.0.2 in /usr/local/lib/python3.7/dist-packages (from packaging>=20.0->scikit-image) (3.0.8)\n",
            "Installing collected packages: scikit-image\n",
            "  Attempting uninstall: scikit-image\n",
            "    Found existing installation: scikit-image 0.18.3\n",
            "    Uninstalling scikit-image-0.18.3:\n",
            "      Successfully uninstalled scikit-image-0.18.3\n",
            "\u001b[31mERROR: pip's dependency resolver does not currently take into account all the packages that are installed. This behaviour is the source of the following dependency conflicts.\n",
            "albumentations 0.1.12 requires imgaug<0.2.7,>=0.2.5, but you have imgaug 0.2.9 which is incompatible.\u001b[0m\n",
            "Successfully installed scikit-image-0.19.2\n"
          ]
        }
      ],
      "source": [
        "!pip install numpy\n",
        "!pip install imageio\n",
        "!pip install matplotlib\n",
        "!pip install tqdm\n",
        "!apt-get install python-opencv\n",
        "!python -m pip install -U scikit-image\n"
      ]
    },
    {
      "cell_type": "code",
      "execution_count": 3,
      "metadata": {
        "colab": {
          "base_uri": "https://localhost:8080/"
        },
        "id": "JbQ1VhT8_rOf",
        "outputId": "e3bc2b0f-dcc5-4932-fbab-d30fed7ce037"
      },
      "outputs": [
        {
          "output_type": "stream",
          "name": "stdout",
          "text": [
            "Requirement already satisfied: tensorflow in /usr/local/lib/python3.7/dist-packages (2.8.0)\n",
            "Requirement already satisfied: astunparse>=1.6.0 in /usr/local/lib/python3.7/dist-packages (from tensorflow) (1.6.3)\n",
            "Requirement already satisfied: flatbuffers>=1.12 in /usr/local/lib/python3.7/dist-packages (from tensorflow) (2.0)\n",
            "Requirement already satisfied: typing-extensions>=3.6.6 in /usr/local/lib/python3.7/dist-packages (from tensorflow) (4.1.1)\n",
            "Requirement already satisfied: absl-py>=0.4.0 in /usr/local/lib/python3.7/dist-packages (from tensorflow) (1.0.0)\n",
            "Requirement already satisfied: keras<2.9,>=2.8.0rc0 in /usr/local/lib/python3.7/dist-packages (from tensorflow) (2.8.0)\n",
            "Requirement already satisfied: wrapt>=1.11.0 in /usr/local/lib/python3.7/dist-packages (from tensorflow) (1.14.0)\n",
            "Requirement already satisfied: grpcio<2.0,>=1.24.3 in /usr/local/lib/python3.7/dist-packages (from tensorflow) (1.44.0)\n",
            "Requirement already satisfied: six>=1.12.0 in /usr/local/lib/python3.7/dist-packages (from tensorflow) (1.15.0)\n",
            "Requirement already satisfied: gast>=0.2.1 in /usr/local/lib/python3.7/dist-packages (from tensorflow) (0.5.3)\n",
            "Requirement already satisfied: setuptools in /usr/local/lib/python3.7/dist-packages (from tensorflow) (57.4.0)\n",
            "Requirement already satisfied: tensorflow-io-gcs-filesystem>=0.23.1 in /usr/local/lib/python3.7/dist-packages (from tensorflow) (0.24.0)\n",
            "Collecting tf-estimator-nightly==2.8.0.dev2021122109\n",
            "  Downloading tf_estimator_nightly-2.8.0.dev2021122109-py2.py3-none-any.whl (462 kB)\n",
            "\u001b[K     |████████████████████████████████| 462 kB 4.3 MB/s \n",
            "\u001b[?25hRequirement already satisfied: keras-preprocessing>=1.1.1 in /usr/local/lib/python3.7/dist-packages (from tensorflow) (1.1.2)\n",
            "Requirement already satisfied: h5py>=2.9.0 in /usr/local/lib/python3.7/dist-packages (from tensorflow) (3.1.0)\n",
            "Requirement already satisfied: opt-einsum>=2.3.2 in /usr/local/lib/python3.7/dist-packages (from tensorflow) (3.3.0)\n",
            "Requirement already satisfied: libclang>=9.0.1 in /usr/local/lib/python3.7/dist-packages (from tensorflow) (13.0.0)\n",
            "Requirement already satisfied: protobuf>=3.9.2 in /usr/local/lib/python3.7/dist-packages (from tensorflow) (3.17.3)\n",
            "Requirement already satisfied: google-pasta>=0.1.1 in /usr/local/lib/python3.7/dist-packages (from tensorflow) (0.2.0)\n",
            "Requirement already satisfied: termcolor>=1.1.0 in /usr/local/lib/python3.7/dist-packages (from tensorflow) (1.1.0)\n",
            "Requirement already satisfied: tensorboard<2.9,>=2.8 in /usr/local/lib/python3.7/dist-packages (from tensorflow) (2.8.0)\n",
            "Requirement already satisfied: numpy>=1.20 in /usr/local/lib/python3.7/dist-packages (from tensorflow) (1.21.5)\n",
            "Requirement already satisfied: wheel<1.0,>=0.23.0 in /usr/local/lib/python3.7/dist-packages (from astunparse>=1.6.0->tensorflow) (0.37.1)\n",
            "Requirement already satisfied: cached-property in /usr/local/lib/python3.7/dist-packages (from h5py>=2.9.0->tensorflow) (1.5.2)\n",
            "Requirement already satisfied: werkzeug>=0.11.15 in /usr/local/lib/python3.7/dist-packages (from tensorboard<2.9,>=2.8->tensorflow) (1.0.1)\n",
            "Requirement already satisfied: requests<3,>=2.21.0 in /usr/local/lib/python3.7/dist-packages (from tensorboard<2.9,>=2.8->tensorflow) (2.23.0)\n",
            "Requirement already satisfied: markdown>=2.6.8 in /usr/local/lib/python3.7/dist-packages (from tensorboard<2.9,>=2.8->tensorflow) (3.3.6)\n",
            "Requirement already satisfied: tensorboard-data-server<0.7.0,>=0.6.0 in /usr/local/lib/python3.7/dist-packages (from tensorboard<2.9,>=2.8->tensorflow) (0.6.1)\n",
            "Requirement already satisfied: tensorboard-plugin-wit>=1.6.0 in /usr/local/lib/python3.7/dist-packages (from tensorboard<2.9,>=2.8->tensorflow) (1.8.1)\n",
            "Requirement already satisfied: google-auth<3,>=1.6.3 in /usr/local/lib/python3.7/dist-packages (from tensorboard<2.9,>=2.8->tensorflow) (1.35.0)\n",
            "Requirement already satisfied: google-auth-oauthlib<0.5,>=0.4.1 in /usr/local/lib/python3.7/dist-packages (from tensorboard<2.9,>=2.8->tensorflow) (0.4.6)\n",
            "Requirement already satisfied: pyasn1-modules>=0.2.1 in /usr/local/lib/python3.7/dist-packages (from google-auth<3,>=1.6.3->tensorboard<2.9,>=2.8->tensorflow) (0.2.8)\n",
            "Requirement already satisfied: rsa<5,>=3.1.4 in /usr/local/lib/python3.7/dist-packages (from google-auth<3,>=1.6.3->tensorboard<2.9,>=2.8->tensorflow) (4.8)\n",
            "Requirement already satisfied: cachetools<5.0,>=2.0.0 in /usr/local/lib/python3.7/dist-packages (from google-auth<3,>=1.6.3->tensorboard<2.9,>=2.8->tensorflow) (4.2.4)\n",
            "Requirement already satisfied: requests-oauthlib>=0.7.0 in /usr/local/lib/python3.7/dist-packages (from google-auth-oauthlib<0.5,>=0.4.1->tensorboard<2.9,>=2.8->tensorflow) (1.3.1)\n",
            "Requirement already satisfied: importlib-metadata>=4.4 in /usr/local/lib/python3.7/dist-packages (from markdown>=2.6.8->tensorboard<2.9,>=2.8->tensorflow) (4.11.3)\n",
            "Requirement already satisfied: zipp>=0.5 in /usr/local/lib/python3.7/dist-packages (from importlib-metadata>=4.4->markdown>=2.6.8->tensorboard<2.9,>=2.8->tensorflow) (3.8.0)\n",
            "Requirement already satisfied: pyasn1<0.5.0,>=0.4.6 in /usr/local/lib/python3.7/dist-packages (from pyasn1-modules>=0.2.1->google-auth<3,>=1.6.3->tensorboard<2.9,>=2.8->tensorflow) (0.4.8)\n",
            "Requirement already satisfied: certifi>=2017.4.17 in /usr/local/lib/python3.7/dist-packages (from requests<3,>=2.21.0->tensorboard<2.9,>=2.8->tensorflow) (2021.10.8)\n",
            "Requirement already satisfied: idna<3,>=2.5 in /usr/local/lib/python3.7/dist-packages (from requests<3,>=2.21.0->tensorboard<2.9,>=2.8->tensorflow) (2.10)\n",
            "Requirement already satisfied: urllib3!=1.25.0,!=1.25.1,<1.26,>=1.21.1 in /usr/local/lib/python3.7/dist-packages (from requests<3,>=2.21.0->tensorboard<2.9,>=2.8->tensorflow) (1.24.3)\n",
            "Requirement already satisfied: chardet<4,>=3.0.2 in /usr/local/lib/python3.7/dist-packages (from requests<3,>=2.21.0->tensorboard<2.9,>=2.8->tensorflow) (3.0.4)\n",
            "Requirement already satisfied: oauthlib>=3.0.0 in /usr/local/lib/python3.7/dist-packages (from requests-oauthlib>=0.7.0->google-auth-oauthlib<0.5,>=0.4.1->tensorboard<2.9,>=2.8->tensorflow) (3.2.0)\n",
            "Installing collected packages: tf-estimator-nightly\n",
            "Successfully installed tf-estimator-nightly-2.8.0.dev2021122109\n",
            "Requirement already satisfied: ipykernel in /usr/local/lib/python3.7/dist-packages (4.10.1)\n",
            "Requirement already satisfied: traitlets>=4.1.0 in /usr/local/lib/python3.7/dist-packages (from ipykernel) (5.1.1)\n",
            "Requirement already satisfied: ipython>=4.0.0 in /usr/local/lib/python3.7/dist-packages (from ipykernel) (5.5.0)\n",
            "Requirement already satisfied: jupyter-client in /usr/local/lib/python3.7/dist-packages (from ipykernel) (5.3.5)\n",
            "Requirement already satisfied: tornado>=4.0 in /usr/local/lib/python3.7/dist-packages (from ipykernel) (5.1.1)\n",
            "Requirement already satisfied: pickleshare in /usr/local/lib/python3.7/dist-packages (from ipython>=4.0.0->ipykernel) (0.7.5)\n",
            "Requirement already satisfied: setuptools>=18.5 in /usr/local/lib/python3.7/dist-packages (from ipython>=4.0.0->ipykernel) (57.4.0)\n",
            "Requirement already satisfied: pexpect in /usr/local/lib/python3.7/dist-packages (from ipython>=4.0.0->ipykernel) (4.8.0)\n",
            "Requirement already satisfied: simplegeneric>0.8 in /usr/local/lib/python3.7/dist-packages (from ipython>=4.0.0->ipykernel) (0.8.1)\n",
            "Requirement already satisfied: pygments in /usr/local/lib/python3.7/dist-packages (from ipython>=4.0.0->ipykernel) (2.6.1)\n",
            "Requirement already satisfied: decorator in /usr/local/lib/python3.7/dist-packages (from ipython>=4.0.0->ipykernel) (4.4.2)\n",
            "Requirement already satisfied: prompt-toolkit<2.0.0,>=1.0.4 in /usr/local/lib/python3.7/dist-packages (from ipython>=4.0.0->ipykernel) (1.0.18)\n",
            "Requirement already satisfied: wcwidth in /usr/local/lib/python3.7/dist-packages (from prompt-toolkit<2.0.0,>=1.0.4->ipython>=4.0.0->ipykernel) (0.2.5)\n",
            "Requirement already satisfied: six>=1.9.0 in /usr/local/lib/python3.7/dist-packages (from prompt-toolkit<2.0.0,>=1.0.4->ipython>=4.0.0->ipykernel) (1.15.0)\n",
            "Requirement already satisfied: jupyter-core>=4.6.0 in /usr/local/lib/python3.7/dist-packages (from jupyter-client->ipykernel) (4.9.2)\n",
            "Requirement already satisfied: pyzmq>=13 in /usr/local/lib/python3.7/dist-packages (from jupyter-client->ipykernel) (22.3.0)\n",
            "Requirement already satisfied: python-dateutil>=2.1 in /usr/local/lib/python3.7/dist-packages (from jupyter-client->ipykernel) (2.8.2)\n",
            "Requirement already satisfied: ptyprocess>=0.5 in /usr/local/lib/python3.7/dist-packages (from pexpect->ipython>=4.0.0->ipykernel) (0.7.0)\n",
            "Requirement already satisfied: astor in /usr/local/lib/python3.7/dist-packages (0.8.1)\n"
          ]
        }
      ],
      "source": [
        "!pip install tensorflow \n",
        "!pip install ipykernel \n",
        "!pip install astor\n"
      ]
    },
    {
      "cell_type": "code",
      "execution_count": 4,
      "metadata": {
        "colab": {
          "base_uri": "https://localhost:8080/"
        },
        "id": "JZfKEMOhA7mR",
        "outputId": "f0d04b0f-b700-43f6-95de-5d2f3da0f1c2"
      },
      "outputs": [
        {
          "output_type": "stream",
          "name": "stdout",
          "text": [
            "`%tensorflow_version` only switches the major version: 1.x or 2.x.\n",
            "You set: `1.12`. This will be interpreted as: `1.x`.\n",
            "\n",
            "\n",
            "TensorFlow 1.x selected.\n"
          ]
        }
      ],
      "source": [
        "%tensorflow_version 1.12"
      ]
    },
    {
      "cell_type": "code",
      "execution_count": 5,
      "metadata": {
        "colab": {
          "base_uri": "https://localhost:8080/"
        },
        "id": "GTwy80Cn-gBz",
        "outputId": "d2ff849e-19e9-4132-891a-50b48980aca9"
      },
      "outputs": [
        {
          "output_type": "stream",
          "name": "stdout",
          "text": [
            "1.15.2\n"
          ]
        }
      ],
      "source": [
        "import tensorflow as tf\n",
        "print(tf. __version__)"
      ]
    },
    {
      "cell_type": "code",
      "execution_count": 6,
      "metadata": {
        "colab": {
          "base_uri": "https://localhost:8080/"
        },
        "id": "j48lzm-qrWV7",
        "outputId": "12cfecdf-5acb-4923-bdf3-9173a6845ab7"
      },
      "outputs": [
        {
          "output_type": "stream",
          "name": "stdout",
          "text": [
            "Collecting tfutil\n",
            "  Downloading tfutil-0.8.1.tar.gz (22 kB)\n",
            "Building wheels for collected packages: tfutil\n",
            "  Building wheel for tfutil (setup.py) ... \u001b[?25l\u001b[?25hdone\n",
            "  Created wheel for tfutil: filename=tfutil-0.8.1-py3-none-any.whl size=27957 sha256=9228a3fdb30e5fd85e69b0a16b339650110bf63e9ca73ca5eb04270aa90d63b1\n",
            "  Stored in directory: /root/.cache/pip/wheels/fb/99/4e/d3a91cbb0eedc44b953d6759a0fd7f602313d28abcef6d7ae1\n",
            "Successfully built tfutil\n",
            "Installing collected packages: tfutil\n",
            "Successfully installed tfutil-0.8.1\n"
          ]
        }
      ],
      "source": [
        "!pip install tfutil"
      ]
    },
    {
      "cell_type": "code",
      "execution_count": 7,
      "metadata": {
        "id": "Lk26lLKZxyb1"
      },
      "outputs": [],
      "source": [
        "from PIL import Image                                              \n",
        "import os, sys "
      ]
    },
    {
      "cell_type": "code",
      "execution_count": null,
      "metadata": {
        "colab": {
          "base_uri": "https://localhost:8080/"
        },
        "id": "QTu2ZZ6Y8Jet",
        "outputId": "4785e997-d58f-4369-cf20-8f038aaebd65"
      },
      "outputs": [
        {
          "output_type": "stream",
          "name": "stdout",
          "text": [
            "WARNING:tensorflow:From /content/drive/.shortcut-targets-by-id/1BKwPP2ZywCKYF3dJLVL_sxW9waxXkACw/SISR/Pyramids_deraining/pyramids-derain/code/tfutil.py:12: The name tf.set_random_seed is deprecated. Please use tf.compat.v1.set_random_seed instead.\n",
            "\n",
            "WARNING:tensorflow:\n",
            "The TensorFlow contrib module will not be included in TensorFlow 2.0.\n",
            "For more information, please see:\n",
            "  * https://github.com/tensorflow/community/blob/master/rfcs/20180907-contrib-sunset.md\n",
            "  * https://github.com/tensorflow/addons\n",
            "  * https://github.com/tensorflow/io (for I/O related ops)\n",
            "If you depend on functionality not listed there, please file an issue.\n",
            "\n",
            "WARNING:tensorflow:From /content/drive/MyDrive/SISR/Pyramids_deraining/pyramids-derain/code/training.py:77: The name tf.reset_default_graph is deprecated. Please use tf.compat.v1.reset_default_graph instead.\n",
            "\n",
            "<DatasetV1Adapter shapes: ((), ()), types: (tf.string, tf.string)>\n",
            "WARNING:tensorflow:Entity <function _parse_function at 0x7efc5e38ab90> could not be transformed and will be executed as-is. Please report this to the AutoGraph team. When filing the bug, set the verbosity to 10 (on Linux, `export AUTOGRAPH_VERBOSITY=10`) and attach the full output. Cause: module 'gast' has no attribute 'Str'\n",
            "WARNING:tensorflow:From /content/drive/MyDrive/SISR/Pyramids_deraining/pyramids-derain/code/training.py:42: The name tf.read_file is deprecated. Please use tf.io.read_file instead.\n",
            "\n",
            "WARNING:tensorflow:From /content/drive/MyDrive/SISR/Pyramids_deraining/pyramids-derain/code/training.py:50: The name tf.random_crop is deprecated. Please use tf.image.random_crop instead.\n",
            "\n",
            "WARNING:tensorflow:Entity <function _data_augmentation at 0x7efbf47db170> could not be transformed and will be executed as-is. Please report this to the AutoGraph team. When filing the bug, set the verbosity to 10 (on Linux, `export AUTOGRAPH_VERBOSITY=10`) and attach the full output. Cause: module 'gast' has no attribute 'Index'\n",
            "WARNING:tensorflow:From /content/drive/MyDrive/SISR/Pyramids_deraining/pyramids-derain/code/training.py:57: The name tf.random_uniform is deprecated. Please use tf.random.uniform instead.\n",
            "\n",
            "2022-04-13 16:46:27.716454: I tensorflow/stream_executor/platform/default/dso_loader.cc:44] Successfully opened dynamic library libcuda.so.1\n",
            "2022-04-13 16:46:27.779052: I tensorflow/stream_executor/cuda/cuda_gpu_executor.cc:983] successful NUMA node read from SysFS had negative value (-1), but there must be at least one NUMA node, so returning NUMA node zero\n",
            "2022-04-13 16:46:27.779968: I tensorflow/core/common_runtime/gpu/gpu_device.cc:1639] Found device 0 with properties: \n",
            "name: Tesla P100-PCIE-16GB major: 6 minor: 0 memoryClockRate(GHz): 1.3285\n",
            "pciBusID: 0000:00:04.0\n",
            "2022-04-13 16:46:27.802088: I tensorflow/stream_executor/platform/default/dso_loader.cc:44] Successfully opened dynamic library libcudart.so.10.1\n",
            "2022-04-13 16:46:27.965899: I tensorflow/stream_executor/platform/default/dso_loader.cc:44] Successfully opened dynamic library libcublas.so.10\n",
            "2022-04-13 16:46:27.988407: I tensorflow/stream_executor/platform/default/dso_loader.cc:44] Successfully opened dynamic library libcufft.so.10\n",
            "2022-04-13 16:46:28.007635: I tensorflow/stream_executor/platform/default/dso_loader.cc:44] Successfully opened dynamic library libcurand.so.10\n",
            "2022-04-13 16:46:28.204787: I tensorflow/stream_executor/platform/default/dso_loader.cc:44] Successfully opened dynamic library libcusolver.so.10\n",
            "2022-04-13 16:46:28.233401: I tensorflow/stream_executor/platform/default/dso_loader.cc:44] Successfully opened dynamic library libcusparse.so.10\n",
            "2022-04-13 16:46:28.552777: I tensorflow/stream_executor/platform/default/dso_loader.cc:44] Successfully opened dynamic library libcudnn.so.7\n",
            "2022-04-13 16:46:28.553002: I tensorflow/stream_executor/cuda/cuda_gpu_executor.cc:983] successful NUMA node read from SysFS had negative value (-1), but there must be at least one NUMA node, so returning NUMA node zero\n",
            "2022-04-13 16:46:28.554035: I tensorflow/stream_executor/cuda/cuda_gpu_executor.cc:983] successful NUMA node read from SysFS had negative value (-1), but there must be at least one NUMA node, so returning NUMA node zero\n",
            "2022-04-13 16:46:28.554907: I tensorflow/core/common_runtime/gpu/gpu_device.cc:1767] Adding visible gpu devices: 0\n",
            "WARNING:tensorflow:From /content/drive/MyDrive/SISR/Pyramids_deraining/pyramids-derain/code/training.py:64: The name tf.mod is deprecated. Please use tf.math.mod instead.\n",
            "\n",
            "WARNING:tensorflow:From /content/drive/MyDrive/SISR/Pyramids_deraining/pyramids-derain/code/training.py:96: DatasetV1.make_one_shot_iterator (from tensorflow.python.data.ops.dataset_ops) is deprecated and will be removed in a future version.\n",
            "Instructions for updating:\n",
            "Use `for ... in dataset:` to iterate over a dataset. If using `tf.estimator`, return the `Dataset` object directly from your input function. As a last resort, you can use `tf.compat.v1.data.make_one_shot_iterator(dataset)`.\n",
            "WARNING:tensorflow:From /content/drive/.shortcut-targets-by-id/1BKwPP2ZywCKYF3dJLVL_sxW9waxXkACw/SISR/Pyramids_deraining/pyramids-derain/code/model.py:272: The name tf.variable_scope is deprecated. Please use tf.compat.v1.variable_scope instead.\n",
            "\n",
            "WARNING:tensorflow:From /content/drive/.shortcut-targets-by-id/1BKwPP2ZywCKYF3dJLVL_sxW9waxXkACw/SISR/Pyramids_deraining/pyramids-derain/code/model.py:272: The name tf.AUTO_REUSE is deprecated. Please use tf.compat.v1.AUTO_REUSE instead.\n",
            "\n",
            "[<tf.Tensor 'inference/split_3/Conv2D:0' shape=(?, 3, 3, 3) dtype=float32>, <tf.Tensor 'inference/split_3/sub:0' shape=(?, 6, 6, 3) dtype=float32>, <tf.Tensor 'inference/split_2/sub:0' shape=(?, 12, 12, 3) dtype=float32>, <tf.Tensor 'inference/split_1/sub:0' shape=(?, 24, 24, 3) dtype=float32>, <tf.Tensor 'inference/split/sub:0' shape=(?, 48, 48, 3) dtype=float32>]\n",
            "WARNING:tensorflow:From /content/drive/.shortcut-targets-by-id/1BKwPP2ZywCKYF3dJLVL_sxW9waxXkACw/SISR/Pyramids_deraining/pyramids-derain/code/model.py:62: The name tf.get_variable is deprecated. Please use tf.compat.v1.get_variable instead.\n",
            "\n",
            "WARNING:tensorflow:From /content/drive/.shortcut-targets-by-id/1BKwPP2ZywCKYF3dJLVL_sxW9waxXkACw/SISR/Pyramids_deraining/pyramids-derain/code/model.py:191: conv2d (from tensorflow.python.layers.convolutional) is deprecated and will be removed in a future version.\n",
            "Instructions for updating:\n",
            "Use `tf.keras.layers.Conv2D` instead.\n",
            "WARNING:tensorflow:From /tensorflow-1.15.2/python3.7/tensorflow_core/python/layers/convolutional.py:424: Layer.apply (from tensorflow.python.keras.engine.base_layer) is deprecated and will be removed in a future version.\n",
            "Instructions for updating:\n",
            "Please use `layer.__call__` method instead.\n",
            "(?, 3, 3, 1)\n",
            "(?, 3, 3, 1)\n",
            "(?, 3, 3, 1)\n",
            "(?, 3, 3, 1)\n",
            "(?, 3, 3, 1)\n",
            "(?, 3, 3, 1)\n",
            "(?, 3, 3, 1)\n",
            "(?, 3, 3, 1)\n",
            "(?, 3, 3, 1)\n",
            "(?, 3, 3, 1)\n",
            "(?, 3, 3, 1)\n",
            "(?, 3, 3, 1)\n",
            "(?, 3, 3, 1)\n",
            "(?, 3, 3, 1)\n",
            "(?, 3, 3, 1)\n",
            "(?, 3, 3, 1)\n",
            "(?, 3, 3, 1)\n",
            "(?, 3, 3, 1)\n",
            "(?, 3, 3, 1)\n",
            "(?, 3, 3, 1)\n",
            "shape\n",
            "(?, 3, 3, 1)\n",
            "shape\n",
            "Tensor(\"inference/subnet1/resd_group/Reshape:0\", shape=(?, ?), dtype=float32)\n",
            "WARNING:tensorflow:From /content/drive/.shortcut-targets-by-id/1BKwPP2ZywCKYF3dJLVL_sxW9waxXkACw/SISR/Pyramids_deraining/pyramids-derain/code/model.py:246: calling softmax (from tensorflow.python.ops.nn_ops) with dim is deprecated and will be removed in a future version.\n",
            "Instructions for updating:\n",
            "dim is deprecated, use axis instead\n",
            "(?, 6, 6, 1)\n",
            "(?, 6, 6, 1)\n",
            "(?, 6, 6, 1)\n",
            "(?, 6, 6, 1)\n",
            "(?, 6, 6, 1)\n",
            "(?, 6, 6, 1)\n",
            "(?, 6, 6, 1)\n",
            "(?, 6, 6, 1)\n",
            "(?, 6, 6, 1)\n",
            "(?, 6, 6, 1)\n",
            "(?, 6, 6, 1)\n",
            "(?, 6, 6, 1)\n",
            "(?, 6, 6, 1)\n",
            "(?, 6, 6, 1)\n",
            "(?, 6, 6, 1)\n",
            "(?, 6, 6, 1)\n",
            "(?, 6, 6, 1)\n",
            "(?, 6, 6, 1)\n",
            "(?, 6, 6, 1)\n",
            "(?, 6, 6, 1)\n",
            "shape\n",
            "(?, 6, 6, 1)\n",
            "shape\n",
            "Tensor(\"inference/subnet2/resd_group/Reshape:0\", shape=(?, ?), dtype=float32)\n",
            "(?, 12, 12, 1)\n",
            "(?, 12, 12, 1)\n",
            "(?, 12, 12, 1)\n",
            "(?, 12, 12, 1)\n",
            "(?, 12, 12, 1)\n",
            "(?, 12, 12, 1)\n",
            "(?, 12, 12, 1)\n",
            "(?, 12, 12, 1)\n",
            "(?, 12, 12, 1)\n",
            "(?, 12, 12, 1)\n",
            "(?, 12, 12, 1)\n",
            "(?, 12, 12, 1)\n",
            "(?, 12, 12, 1)\n",
            "(?, 12, 12, 1)\n",
            "(?, 12, 12, 1)\n",
            "(?, 12, 12, 1)\n",
            "(?, 12, 12, 1)\n",
            "(?, 12, 12, 1)\n",
            "(?, 12, 12, 1)\n",
            "(?, 12, 12, 1)\n",
            "shape\n",
            "(?, 12, 12, 1)\n",
            "shape\n",
            "Tensor(\"inference/subnet3/resd_group/Reshape:0\", shape=(?, ?), dtype=float32)\n",
            "(?, 24, 24, 1)\n",
            "(?, 24, 24, 1)\n",
            "(?, 24, 24, 1)\n",
            "(?, 24, 24, 1)\n",
            "(?, 24, 24, 1)\n",
            "(?, 24, 24, 1)\n",
            "(?, 24, 24, 1)\n",
            "(?, 24, 24, 1)\n",
            "(?, 24, 24, 1)\n",
            "(?, 24, 24, 1)\n",
            "(?, 24, 24, 1)\n",
            "(?, 24, 24, 1)\n",
            "(?, 24, 24, 1)\n",
            "(?, 24, 24, 1)\n",
            "(?, 24, 24, 1)\n",
            "(?, 24, 24, 1)\n",
            "(?, 24, 24, 1)\n",
            "(?, 24, 24, 1)\n",
            "(?, 24, 24, 1)\n",
            "(?, 24, 24, 1)\n",
            "shape\n",
            "(?, 24, 24, 1)\n",
            "shape\n",
            "Tensor(\"inference/subnet4/resd_group/Reshape:0\", shape=(?, ?), dtype=float32)\n",
            "(?, 48, 48, 1)\n",
            "(?, 48, 48, 1)\n",
            "(?, 48, 48, 1)\n",
            "(?, 48, 48, 1)\n",
            "(?, 48, 48, 1)\n",
            "(?, 48, 48, 1)\n",
            "(?, 48, 48, 1)\n",
            "(?, 48, 48, 1)\n",
            "(?, 48, 48, 1)\n",
            "(?, 48, 48, 1)\n",
            "(?, 48, 48, 1)\n",
            "(?, 48, 48, 1)\n",
            "(?, 48, 48, 1)\n",
            "(?, 48, 48, 1)\n",
            "(?, 48, 48, 1)\n",
            "(?, 48, 48, 1)\n",
            "(?, 48, 48, 1)\n",
            "(?, 48, 48, 1)\n",
            "(?, 48, 48, 1)\n",
            "(?, 48, 48, 1)\n",
            "shape\n",
            "(?, 48, 48, 1)\n",
            "shape\n",
            "Tensor(\"inference/subnet5/resd_group/Reshape:0\", shape=(?, ?), dtype=float32)\n",
            "WARNING:tensorflow:From /content/drive/MyDrive/SISR/Pyramids_deraining/pyramids-derain/code/training.py:119: The name tf.train.AdamOptimizer is deprecated. Please use tf.compat.v1.train.AdamOptimizer instead.\n",
            "\n",
            "WARNING:tensorflow:From /tensorflow-1.15.2/python3.7/tensorflow_core/python/ops/math_grad.py:1424: where (from tensorflow.python.ops.array_ops) is deprecated and will be removed in a future version.\n",
            "Instructions for updating:\n",
            "Use tf.where in 2.0, which has the same broadcast rule as np.where\n",
            "WARNING:tensorflow:From /content/drive/MyDrive/SISR/Pyramids_deraining/pyramids-derain/code/training.py:121: The name tf.trainable_variables is deprecated. Please use tf.compat.v1.trainable_variables instead.\n",
            "\n",
            "WARNING:tensorflow:From /content/drive/MyDrive/SISR/Pyramids_deraining/pyramids-derain/code/training.py:122: The name tf.train.Saver is deprecated. Please use tf.compat.v1.train.Saver instead.\n",
            "\n",
            "WARNING:tensorflow:From /content/drive/MyDrive/SISR/Pyramids_deraining/pyramids-derain/code/training.py:125: The name tf.ConfigProto is deprecated. Please use tf.compat.v1.ConfigProto instead.\n",
            "\n",
            "WARNING:tensorflow:From /content/drive/MyDrive/SISR/Pyramids_deraining/pyramids-derain/code/training.py:127: The name tf.Session is deprecated. Please use tf.compat.v1.Session instead.\n",
            "\n",
            "2022-04-13 16:46:53.198393: I tensorflow/core/platform/profile_utils/cpu_utils.cc:94] CPU Frequency: 2299995000 Hz\n",
            "2022-04-13 16:46:53.198857: I tensorflow/compiler/xla/service/service.cc:168] XLA service 0x5570ea081800 initialized for platform Host (this does not guarantee that XLA will be used). Devices:\n",
            "2022-04-13 16:46:53.198890: I tensorflow/compiler/xla/service/service.cc:176]   StreamExecutor device (0): Host, Default Version\n",
            "2022-04-13 16:46:53.426850: I tensorflow/stream_executor/cuda/cuda_gpu_executor.cc:983] successful NUMA node read from SysFS had negative value (-1), but there must be at least one NUMA node, so returning NUMA node zero\n",
            "2022-04-13 16:46:53.428048: I tensorflow/compiler/xla/service/service.cc:168] XLA service 0x5570ea080f40 initialized for platform CUDA (this does not guarantee that XLA will be used). Devices:\n",
            "2022-04-13 16:46:53.428081: I tensorflow/compiler/xla/service/service.cc:176]   StreamExecutor device (0): Tesla P100-PCIE-16GB, Compute Capability 6.0\n",
            "2022-04-13 16:46:53.428278: I tensorflow/stream_executor/cuda/cuda_gpu_executor.cc:983] successful NUMA node read from SysFS had negative value (-1), but there must be at least one NUMA node, so returning NUMA node zero\n",
            "2022-04-13 16:46:53.429201: I tensorflow/core/common_runtime/gpu/gpu_device.cc:1639] Found device 0 with properties: \n",
            "name: Tesla P100-PCIE-16GB major: 6 minor: 0 memoryClockRate(GHz): 1.3285\n",
            "pciBusID: 0000:00:04.0\n",
            "2022-04-13 16:46:53.429302: I tensorflow/stream_executor/platform/default/dso_loader.cc:44] Successfully opened dynamic library libcudart.so.10.1\n",
            "2022-04-13 16:46:53.429378: I tensorflow/stream_executor/platform/default/dso_loader.cc:44] Successfully opened dynamic library libcublas.so.10\n",
            "2022-04-13 16:46:53.429406: I tensorflow/stream_executor/platform/default/dso_loader.cc:44] Successfully opened dynamic library libcufft.so.10\n",
            "2022-04-13 16:46:53.429458: I tensorflow/stream_executor/platform/default/dso_loader.cc:44] Successfully opened dynamic library libcurand.so.10\n",
            "2022-04-13 16:46:53.429501: I tensorflow/stream_executor/platform/default/dso_loader.cc:44] Successfully opened dynamic library libcusolver.so.10\n",
            "2022-04-13 16:46:53.429550: I tensorflow/stream_executor/platform/default/dso_loader.cc:44] Successfully opened dynamic library libcusparse.so.10\n",
            "2022-04-13 16:46:53.429599: I tensorflow/stream_executor/platform/default/dso_loader.cc:44] Successfully opened dynamic library libcudnn.so.7\n",
            "2022-04-13 16:46:53.429728: I tensorflow/stream_executor/cuda/cuda_gpu_executor.cc:983] successful NUMA node read from SysFS had negative value (-1), but there must be at least one NUMA node, so returning NUMA node zero\n",
            "2022-04-13 16:46:53.430769: I tensorflow/stream_executor/cuda/cuda_gpu_executor.cc:983] successful NUMA node read from SysFS had negative value (-1), but there must be at least one NUMA node, so returning NUMA node zero\n",
            "2022-04-13 16:46:53.431632: I tensorflow/core/common_runtime/gpu/gpu_device.cc:1767] Adding visible gpu devices: 0\n",
            "2022-04-13 16:46:53.435059: I tensorflow/stream_executor/platform/default/dso_loader.cc:44] Successfully opened dynamic library libcudart.so.10.1\n",
            "2022-04-13 16:46:53.436786: I tensorflow/core/common_runtime/gpu/gpu_device.cc:1180] Device interconnect StreamExecutor with strength 1 edge matrix:\n",
            "2022-04-13 16:46:53.436818: I tensorflow/core/common_runtime/gpu/gpu_device.cc:1186]      0 \n",
            "2022-04-13 16:46:53.436858: I tensorflow/core/common_runtime/gpu/gpu_device.cc:1199] 0:   N \n",
            "2022-04-13 16:46:53.438241: I tensorflow/stream_executor/cuda/cuda_gpu_executor.cc:983] successful NUMA node read from SysFS had negative value (-1), but there must be at least one NUMA node, so returning NUMA node zero\n",
            "2022-04-13 16:46:53.439341: I tensorflow/stream_executor/cuda/cuda_gpu_executor.cc:983] successful NUMA node read from SysFS had negative value (-1), but there must be at least one NUMA node, so returning NUMA node zero\n",
            "2022-04-13 16:46:53.440267: I tensorflow/core/common_runtime/gpu/gpu_device.cc:1325] Created TensorFlow device (/job:localhost/replica:0/task:0/device:GPU:0 with 15224 MB memory) -> physical GPU (device: 0, name: Tesla P100-PCIE-16GB, pci bus id: 0000:00:04.0, compute capability: 6.0)\n",
            "WARNING:tensorflow:From /content/drive/MyDrive/SISR/Pyramids_deraining/pyramids-derain/code/training.py:129: The name tf.global_variables_initializer is deprecated. Please use tf.compat.v1.global_variables_initializer instead.\n",
            "\n",
            "WARNING:tensorflow:From /content/drive/MyDrive/SISR/Pyramids_deraining/pyramids-derain/code/training.py:130: The name tf.local_variables_initializer is deprecated. Please use tf.compat.v1.local_variables_initializer instead.\n",
            "\n",
            "WARNING:tensorflow:From /content/drive/MyDrive/SISR/Pyramids_deraining/pyramids-derain/code/training.py:131: The name tf.get_default_graph is deprecated. Please use tf.compat.v1.get_default_graph instead.\n",
            "\n",
            "loaded successfully\n",
            "check patch pair:\n",
            "<Figure size 640x480 with 2 Axes>\n",
            "2022-04-13 16:47:54.304947: I tensorflow/stream_executor/platform/default/dso_loader.cc:44] Successfully opened dynamic library libcublas.so.10\n",
            "2022-04-13 16:47:54.986406: I tensorflow/stream_executor/platform/default/dso_loader.cc:44] Successfully opened dynamic library libcudnn.so.7\n",
            "46800 / 300000 iteraions, Training Loss  = 1.0775, running time = 992.2 s\n",
            "46900 / 300000 iteraions, Training Loss  = 1.0261, running time = 164.6 s\n",
            "47000 / 300000 iteraions, Training Loss  = 1.0831, running time = 164.7 s\n",
            "47100 / 300000 iteraions, Training Loss  = 1.1785, running time = 163.0 s\n",
            "47200 / 300000 iteraions, Training Loss  = 0.9817, running time = 161.9 s\n",
            "47300 / 300000 iteraions, Training Loss  = 1.0771, running time = 163.7 s\n",
            "WARNING:tensorflow:From /tensorflow-1.15.2/python3.7/tensorflow_core/python/training/saver.py:963: remove_checkpoint (from tensorflow.python.training.checkpoint_management) is deprecated and will be removed in a future version.\n",
            "Instructions for updating:\n",
            "Use standard file APIs to delete files with this prefix.\n",
            "47400 / 300000 iteraions, Training Loss  = 1.0995, running time = 163.4 s\n",
            "47500 / 300000 iteraions, Training Loss  = 1.1750, running time = 162.6 s\n",
            "47600 / 300000 iteraions, Training Loss  = 0.8050, running time = 163.9 s\n",
            "47700 / 300000 iteraions, Training Loss  = 0.9359, running time = 161.4 s\n",
            "47800 / 300000 iteraions, Training Loss  = 1.1189, running time = 162.9 s\n",
            "47900 / 300000 iteraions, Training Loss  = 1.1572, running time = 160.7 s\n",
            "48000 / 300000 iteraions, Training Loss  = 1.0091, running time = 160.2 s\n",
            "48100 / 300000 iteraions, Training Loss  = 1.1075, running time = 161.3 s\n",
            "48200 / 300000 iteraions, Training Loss  = 0.9215, running time = 161.3 s\n",
            "48300 / 300000 iteraions, Training Loss  = 0.9554, running time = 161.0 s\n",
            "48400 / 300000 iteraions, Training Loss  = 1.0759, running time = 161.2 s\n",
            "48500 / 300000 iteraions, Training Loss  = 1.1937, running time = 164.1 s\n",
            "48600 / 300000 iteraions, Training Loss  = 1.2678, running time = 162.1 s\n",
            "48700 / 300000 iteraions, Training Loss  = 1.0240, running time = 162.1 s\n",
            "48800 / 300000 iteraions, Training Loss  = 1.1712, running time = 164.8 s\n",
            "48900 / 300000 iteraions, Training Loss  = 1.0386, running time = 168.1 s\n",
            "49000 / 300000 iteraions, Training Loss  = 1.2147, running time = 167.3 s\n",
            "49100 / 300000 iteraions, Training Loss  = 1.1752, running time = 164.5 s\n",
            "49200 / 300000 iteraions, Training Loss  = 1.1198, running time = 169.3 s\n",
            "49300 / 300000 iteraions, Training Loss  = 1.1050, running time = 166.8 s\n",
            "49400 / 300000 iteraions, Training Loss  = 1.0963, running time = 166.6 s\n",
            "49500 / 300000 iteraions, Training Loss  = 0.9790, running time = 165.9 s\n",
            "49600 / 300000 iteraions, Training Loss  = 1.1127, running time = 166.0 s\n",
            "49700 / 300000 iteraions, Training Loss  = 1.1270, running time = 166.3 s\n",
            "49800 / 300000 iteraions, Training Loss  = 1.0458, running time = 165.6 s\n",
            "49900 / 300000 iteraions, Training Loss  = 1.1474, running time = 165.4 s\n",
            "50000 / 300000 iteraions, Training Loss  = 1.1108, running time = 166.0 s\n",
            "50100 / 300000 iteraions, Training Loss  = 1.1798, running time = 165.9 s\n",
            "50200 / 300000 iteraions, Training Loss  = 1.1663, running time = 168.6 s\n",
            "50300 / 300000 iteraions, Training Loss  = 1.0280, running time = 207.2 s\n",
            "50400 / 300000 iteraions, Training Loss  = 0.9394, running time = 169.0 s\n",
            "50500 / 300000 iteraions, Training Loss  = 1.0592, running time = 167.7 s\n",
            "50600 / 300000 iteraions, Training Loss  = 1.0834, running time = 168.4 s\n"
          ]
        }
      ],
      "source": [
        "!python '/content/drive/MyDrive/SISR/Pyramids_deraining/pyramids-derain/code/training.py'"
      ]
    },
    {
      "cell_type": "code",
      "execution_count": null,
      "metadata": {
        "id": "NebnA5SPHlT-"
      },
      "outputs": [],
      "source": [
        ""
      ]
    },
    {
      "cell_type": "code",
      "execution_count": null,
      "metadata": {
        "id": "oRiI28g_apZA"
      },
      "outputs": [],
      "source": [
        "!python '/content/drive/MyDrive/SISR/Pyramids_deraining/pyramids-derain/code/testing.py'"
      ]
    }
  ],
  "metadata": {
    "accelerator": "GPU",
    "colab": {
      "collapsed_sections": [],
      "machine_shape": "hm",
      "name": "Copy of Untitled0.ipynb",
      "provenance": [],
      "include_colab_link": true
    },
    "kernelspec": {
      "display_name": "Python 3",
      "name": "python3"
    },
    "language_info": {
      "name": "python"
    }
  },
  "nbformat": 4,
  "nbformat_minor": 0
}